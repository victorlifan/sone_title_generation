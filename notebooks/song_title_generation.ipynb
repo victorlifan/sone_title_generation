{
 "cells": [
  {
   "cell_type": "markdown",
   "id": "9a2135b5-35b1-449e-b17c-a528ce9dfd2c",
   "metadata": {
    "tags": []
   },
   "source": [
    "# Autotrain-huggingface: victorlifan/autotrain-song_title_generate-939531516"
   ]
  },
  {
   "cell_type": "code",
   "execution_count": 1,
   "id": "339e4f5a-cf03-4ff6-9493-f6ab55cccbf9",
   "metadata": {},
   "outputs": [],
   "source": [
    "import pandas as pd\n",
    "from transformers import AutoTokenizer, AutoModelForSeq2SeqLM\n",
    "import numpy as np\n",
    "import seaborn as sns\n",
    "import matplotlib.pyplot as plt\n",
    "import re\n",
    "import torch"
   ]
  },
  {
   "cell_type": "markdown",
   "id": "7e902fac-1f3c-43bc-823c-57249328a045",
   "metadata": {},
   "source": [
    "# Data"
   ]
  },
  {
   "cell_type": "code",
   "execution_count": 2,
   "id": "c66f13af-8706-4d6b-8c8e-8e3560ab9aa8",
   "metadata": {},
   "outputs": [
    {
     "data": {
      "text/html": [
       "<div>\n",
       "<style scoped>\n",
       "    .dataframe tbody tr th:only-of-type {\n",
       "        vertical-align: middle;\n",
       "    }\n",
       "\n",
       "    .dataframe tbody tr th {\n",
       "        vertical-align: top;\n",
       "    }\n",
       "\n",
       "    .dataframe thead th {\n",
       "        text-align: right;\n",
       "    }\n",
       "</style>\n",
       "<table border=\"1\" class=\"dataframe\">\n",
       "  <thead>\n",
       "    <tr style=\"text-align: right;\">\n",
       "      <th></th>\n",
       "      <th>ALink</th>\n",
       "      <th>SName</th>\n",
       "      <th>SLink</th>\n",
       "      <th>Lyric</th>\n",
       "      <th>language</th>\n",
       "    </tr>\n",
       "  </thead>\n",
       "  <tbody>\n",
       "    <tr>\n",
       "      <th>0</th>\n",
       "      <td>/ivete-sangalo/</td>\n",
       "      <td>Careless Whisper</td>\n",
       "      <td>/ivete-sangalo/careless-whisper.html</td>\n",
       "      <td>I feel so unsure\\nAs I take your hand and lead...</td>\n",
       "      <td>en</td>\n",
       "    </tr>\n",
       "    <tr>\n",
       "      <th>1</th>\n",
       "      <td>/ivete-sangalo/</td>\n",
       "      <td>Could You Be Loved / Citação Musical do Rap: S...</td>\n",
       "      <td>/ivete-sangalo/could-you-be-loved-citacao-musi...</td>\n",
       "      <td>Don't let them fool, ya\\nOr even try to school...</td>\n",
       "      <td>en</td>\n",
       "    </tr>\n",
       "    <tr>\n",
       "      <th>2</th>\n",
       "      <td>/ivete-sangalo/</td>\n",
       "      <td>Cruisin' (Part. Saulo)</td>\n",
       "      <td>/ivete-sangalo/cruisin-part-saulo.html</td>\n",
       "      <td>Baby, let's cruise, away from here\\nDon't be c...</td>\n",
       "      <td>en</td>\n",
       "    </tr>\n",
       "    <tr>\n",
       "      <th>3</th>\n",
       "      <td>/ivete-sangalo/</td>\n",
       "      <td>Easy</td>\n",
       "      <td>/ivete-sangalo/easy.html</td>\n",
       "      <td>Know it sounds funny\\nBut, I just can't stand ...</td>\n",
       "      <td>en</td>\n",
       "    </tr>\n",
       "    <tr>\n",
       "      <th>4</th>\n",
       "      <td>/ivete-sangalo/</td>\n",
       "      <td>For Your Babies (The Voice cover)</td>\n",
       "      <td>/ivete-sangalo/for-your-babies-the-voice-cover...</td>\n",
       "      <td>You've got that look again\\nThe one I hoped I ...</td>\n",
       "      <td>en</td>\n",
       "    </tr>\n",
       "  </tbody>\n",
       "</table>\n",
       "</div>"
      ],
      "text/plain": [
       "             ALink                                              SName  \\\n",
       "0  /ivete-sangalo/                                   Careless Whisper   \n",
       "1  /ivete-sangalo/  Could You Be Loved / Citação Musical do Rap: S...   \n",
       "2  /ivete-sangalo/                             Cruisin' (Part. Saulo)   \n",
       "3  /ivete-sangalo/                                               Easy   \n",
       "4  /ivete-sangalo/                  For Your Babies (The Voice cover)   \n",
       "\n",
       "                                               SLink  \\\n",
       "0               /ivete-sangalo/careless-whisper.html   \n",
       "1  /ivete-sangalo/could-you-be-loved-citacao-musi...   \n",
       "2             /ivete-sangalo/cruisin-part-saulo.html   \n",
       "3                           /ivete-sangalo/easy.html   \n",
       "4  /ivete-sangalo/for-your-babies-the-voice-cover...   \n",
       "\n",
       "                                               Lyric language  \n",
       "0  I feel so unsure\\nAs I take your hand and lead...       en  \n",
       "1  Don't let them fool, ya\\nOr even try to school...       en  \n",
       "2  Baby, let's cruise, away from here\\nDon't be c...       en  \n",
       "3  Know it sounds funny\\nBut, I just can't stand ...       en  \n",
       "4  You've got that look again\\nThe one I hoped I ...       en  "
      ]
     },
     "execution_count": 2,
     "metadata": {},
     "output_type": "execute_result"
    }
   ],
   "source": [
    "df = pd.read_csv('./data/lyrics-data.csv')\n",
    "df = df[df['language']=='en']\n",
    "df.reset_index(inplace=True,drop=True)\n",
    "df.head()"
   ]
  },
  {
   "cell_type": "code",
   "execution_count": 3,
   "id": "09a9a228-0e02-4bf8-9e93-21346519d3e0",
   "metadata": {},
   "outputs": [],
   "source": [
    "# drop \n",
    "df.drop(['ALink','SLink','language'],axis=1,inplace=True)"
   ]
  },
  {
   "cell_type": "code",
   "execution_count": 4,
   "id": "0522def3-7628-4d05-8467-77a34e5cfdd5",
   "metadata": {},
   "outputs": [
    {
     "name": "stdout",
     "output_type": "stream",
     "text": [
      "<class 'pandas.core.frame.DataFrame'>\n",
      "RangeIndex: 191814 entries, 0 to 191813\n",
      "Data columns (total 2 columns):\n",
      " #   Column  Non-Null Count   Dtype \n",
      "---  ------  --------------   ----- \n",
      " 0   SName   191812 non-null  object\n",
      " 1   Lyric   191814 non-null  object\n",
      "dtypes: object(2)\n",
      "memory usage: 2.9+ MB\n"
     ]
    }
   ],
   "source": [
    "df.info()"
   ]
  },
  {
   "cell_type": "code",
   "execution_count": 5,
   "id": "f25ead75-bf78-4133-857a-8b734d4e6188",
   "metadata": {},
   "outputs": [
    {
     "name": "stdout",
     "output_type": "stream",
     "text": [
      "99590\n"
     ]
    },
    {
     "data": {
      "text/plain": [
       "('Talk To Me (with Rich The Kid)',\n",
       " \"Got it on smash\\nAlright, cool\\n(Yeah) Yeah\\n\\nTalk to me baby (talk)\\nYou's a prissy little missy, baby\\nI got one night for you baby (lit)\\nAnd so hop out the clothes, let 'em drop to the floor\\nI want you to talk to me baby (talk)\\nYou's a prissy little missy, baby\\nI got one night for you baby (lit)\\nAnd so hop out the clothes, let 'em drop to the floor (oh)\\n\\nTalk to me, baby (talk)\\nWork it, take the shift off for me, baby (alright)\\nI drive the whip you bought for me, baby (burr)\\nYou know I got a lotta opps on me, baby\\nI whip around the corner in the whip (whip)\\nShout out Rafaello, man I love the drip, drip (drip, drip)\\n80 pointers on my wrist\\nI'm hella rich and I love to talk shit so\\n\\nTalk to me baby (talk)\\nYou's a prissy little missy, baby\\nI got one night for you baby (lit)\\nAnd so hop out the clothes, let 'em drop to the floor\\nI want you to talk to me baby (talk)\\nYou's a prissy little missy, baby\\nI got one night for you baby (lit)\\nAnd so hop out the clothes, let 'em drop to the floor\\n\\nLet her go, go, go, go (yeah) , go, go, go, go (what)\\nGirl, I'll race you to the floor, tell her go\\nTell the crew, I got money, I'm the one you wanna know\\n\\nYeah, yeah, yeah, yeah\\nI can make that pussy talk back (what)\\nI can spoil you wit' these big racks\\nShe got good head (head) and she eat her cornbread (cornbread)\\nThe Wraith red, Ben Frank, my friend's dead\\nI don't wanna miss it, all of the money, I don't wanna kiss you\\nThe pussy official, I fuck her one time and her face in a pillow\\nIt's a one night ting, my diamonds fightin'\\nThis not no Breitling, that pussy bitin'\\nI tell her to talk to me, to plug and walk with me (plug)\\nOoh, she boujee, she busy (busy)\\nFuck, I might buy her a Bentley (Bentley, fuck it)\\nGo (go) , go to the floor and pick up (and pick up)\\nShe callin' my phone, might pick up (burr)\\nShe too bad, I might miss her (Rich)\\n\\nTalk to me baby (talk)\\nYou's a prissy little missy, baby\\nI got one night for you baby (lit)\\nAnd so hop out the clothes, let 'em drop to the floor\\nI want you to talk to me baby (talk)\\nYou's a prissy little missy, baby\\nI got one night for you baby (lit)\\nAnd so hop out the clothes, let 'em drop to the floor\\n\\nLet her go, go, go, go (yeah) , go, go, go, go (what)\\nGirl, I'll race you to the floor, tell her go\\nTell the crew, I got money, I'm the one you wanna know\")"
      ]
     },
     "execution_count": 5,
     "metadata": {},
     "output_type": "execute_result"
    }
   ],
   "source": [
    "idx =np.random.randint(0,len(df))\n",
    "#idx =2\n",
    "print(idx)\n",
    "df['SName'][idx],df['Lyric'][idx]"
   ]
  },
  {
   "cell_type": "markdown",
   "id": "8168b27a-5c0f-41e8-9db6-b5e38b57918f",
   "metadata": {},
   "source": [
    "## Data Visualization"
   ]
  },
  {
   "cell_type": "code",
   "execution_count": 6,
   "id": "5eb2250b-3384-4829-bd46-cdcca439232b",
   "metadata": {},
   "outputs": [
    {
     "data": {
      "text/html": [
       "<div>\n",
       "<style scoped>\n",
       "    .dataframe tbody tr th:only-of-type {\n",
       "        vertical-align: middle;\n",
       "    }\n",
       "\n",
       "    .dataframe tbody tr th {\n",
       "        vertical-align: top;\n",
       "    }\n",
       "\n",
       "    .dataframe thead th {\n",
       "        text-align: right;\n",
       "    }\n",
       "</style>\n",
       "<table border=\"1\" class=\"dataframe\">\n",
       "  <thead>\n",
       "    <tr style=\"text-align: right;\">\n",
       "      <th></th>\n",
       "      <th>SName</th>\n",
       "      <th>Lyric</th>\n",
       "      <th>Number_of_words</th>\n",
       "      <th>Number_of_words_title</th>\n",
       "    </tr>\n",
       "  </thead>\n",
       "  <tbody>\n",
       "    <tr>\n",
       "      <th>0</th>\n",
       "      <td>Careless Whisper</td>\n",
       "      <td>I feel so unsure\\nAs I take your hand and lead...</td>\n",
       "      <td>299</td>\n",
       "      <td>2</td>\n",
       "    </tr>\n",
       "    <tr>\n",
       "      <th>1</th>\n",
       "      <td>Could You Be Loved / Citação Musical do Rap: S...</td>\n",
       "      <td>Don't let them fool, ya\\nOr even try to school...</td>\n",
       "      <td>161</td>\n",
       "      <td>11</td>\n",
       "    </tr>\n",
       "    <tr>\n",
       "      <th>2</th>\n",
       "      <td>Cruisin' (Part. Saulo)</td>\n",
       "      <td>Baby, let's cruise, away from here\\nDon't be c...</td>\n",
       "      <td>159</td>\n",
       "      <td>3</td>\n",
       "    </tr>\n",
       "    <tr>\n",
       "      <th>3</th>\n",
       "      <td>Easy</td>\n",
       "      <td>Know it sounds funny\\nBut, I just can't stand ...</td>\n",
       "      <td>175</td>\n",
       "      <td>1</td>\n",
       "    </tr>\n",
       "    <tr>\n",
       "      <th>4</th>\n",
       "      <td>For Your Babies (The Voice cover)</td>\n",
       "      <td>You've got that look again\\nThe one I hoped I ...</td>\n",
       "      <td>215</td>\n",
       "      <td>6</td>\n",
       "    </tr>\n",
       "  </tbody>\n",
       "</table>\n",
       "</div>"
      ],
      "text/plain": [
       "                                               SName  \\\n",
       "0                                   Careless Whisper   \n",
       "1  Could You Be Loved / Citação Musical do Rap: S...   \n",
       "2                             Cruisin' (Part. Saulo)   \n",
       "3                                               Easy   \n",
       "4                  For Your Babies (The Voice cover)   \n",
       "\n",
       "                                               Lyric  Number_of_words  \\\n",
       "0  I feel so unsure\\nAs I take your hand and lead...              299   \n",
       "1  Don't let them fool, ya\\nOr even try to school...              161   \n",
       "2  Baby, let's cruise, away from here\\nDon't be c...              159   \n",
       "3  Know it sounds funny\\nBut, I just can't stand ...              175   \n",
       "4  You've got that look again\\nThe one I hoped I ...              215   \n",
       "\n",
       "   Number_of_words_title  \n",
       "0                      2  \n",
       "1                     11  \n",
       "2                      3  \n",
       "3                      1  \n",
       "4                      6  "
      ]
     },
     "execution_count": 6,
     "metadata": {},
     "output_type": "execute_result"
    }
   ],
   "source": [
    "df['Number_of_words'] = df['Lyric'].apply(lambda x:len(str(x).split()))\n",
    "df['Number_of_words_title'] = df['SName'].apply(lambda x:len(str(x).split()))\n",
    "df.head()"
   ]
  },
  {
   "cell_type": "code",
   "execution_count": 7,
   "id": "c9e69fb3-9df9-4835-871e-5f43e2adc5ee",
   "metadata": {},
   "outputs": [
    {
     "data": {
      "text/plain": [
       "count    191814.000000\n",
       "mean        250.229159\n",
       "std         159.288438\n",
       "min           1.000000\n",
       "25%         147.000000\n",
       "50%         211.000000\n",
       "75%         304.000000\n",
       "max        3422.000000\n",
       "Name: Number_of_words, dtype: float64"
      ]
     },
     "execution_count": 7,
     "metadata": {},
     "output_type": "execute_result"
    }
   ],
   "source": [
    "# statistical info\n",
    "df['Number_of_words'].describe()"
   ]
  },
  {
   "cell_type": "code",
   "execution_count": 9,
   "id": "806a6214-5f04-41f4-8573-0f475bd52d45",
   "metadata": {},
   "outputs": [
    {
     "data": {
      "image/png": "[encoded data removed]",
      "text/plain": [
       "<Figure size 720x360 with 1 Axes>"
      ]
     },
     "metadata": {
      "needs_background": "light"
     },
     "output_type": "display_data"
    }
   ],
   "source": [
    "plt.figure(figsize=(10,5))\n",
    "sns.histplot(df['Number_of_words'])\n",
    "plt.title(\"Frequency distribution of number of words for each text extracted\");"
   ]
  },
  {
   "cell_type": "code",
   "execution_count": 8,
   "id": "6e2bf506-aa59-4daa-b321-267438119467",
   "metadata": {},
   "outputs": [
    {
     "data": {
      "text/plain": [
       "count    191814.000000\n",
       "mean          3.188052\n",
       "std           1.834878\n",
       "min           1.000000\n",
       "25%           2.000000\n",
       "50%           3.000000\n",
       "75%           4.000000\n",
       "max          24.000000\n",
       "Name: Number_of_words_title, dtype: float64"
      ]
     },
     "execution_count": 8,
     "metadata": {},
     "output_type": "execute_result"
    }
   ],
   "source": [
    "df['Number_of_words_title'].describe()"
   ]
  },
  {
   "cell_type": "code",
   "execution_count": 29,
   "id": "1f1bc3c8-3083-4d51-99fc-2e71c5b2cbdb",
   "metadata": {},
   "outputs": [
    {
     "data": {
      "image/png": "[encoded data removed]",
      "text/plain": [
       "<Figure size 720x360 with 1 Axes>"
      ]
     },
     "metadata": {
      "needs_background": "light"
     },
     "output_type": "display_data"
    }
   ],
   "source": [
    "plt.figure(figsize=(10,5))\n",
    "sns.histplot(df['Number_of_words_title'])\n",
    "plt.title(\"Frequency distribution of number of words for each title\");"
   ]
  },
  {
   "cell_type": "code",
   "execution_count": 10,
   "id": "0cf58cf1-11be-45d3-bf08-1630353ea067",
   "metadata": {},
   "outputs": [
    {
     "data": {
      "text/plain": [
       "0                                          Careless Whisper\n",
       "1         Could You Be Loved / Citação Musical do Rap: S...\n",
       "2                                    Cruisin' (Part. Saulo)\n",
       "3                                                      Easy\n",
       "4                         For Your Babies (The Voice cover)\n",
       "                                ...                        \n",
       "191809                                          The Waiting\n",
       "191810                                Too Early For The Sky\n",
       "191811        Warsaw 1943 (I Never Betrayed The Revolution)\n",
       "191812                           When The System Has Fallen\n",
       "191813                                  Woman Be My Country\n",
       "Name: SName, Length: 191814, dtype: object"
      ]
     },
     "execution_count": 10,
     "metadata": {},
     "output_type": "execute_result"
    }
   ],
   "source": [
    "df['SName'] = df['SName'].astype(str)\n",
    "df['SName']"
   ]
  },
  {
   "cell_type": "markdown",
   "id": "abd0f22d-9d53-46d6-bb3f-ce64edbd43cc",
   "metadata": {},
   "source": [
    "---\n",
    "## Clean up title and lyric"
   ]
  },
  {
   "cell_type": "code",
   "execution_count": 11,
   "id": "74c6ac7b-2af5-465b-b2bd-8853b8a4e7a1",
   "metadata": {},
   "outputs": [],
   "source": [
    "# remove \\n in lyric\n",
    "df['Lyric'] = df['Lyric'].apply(lambda x: re.sub(\"\\n\", ' ', x).lower())"
   ]
  },
  {
   "cell_type": "code",
   "execution_count": 12,
   "id": "15818dda-2b20-4493-8321-e8a85a627a56",
   "metadata": {},
   "outputs": [
    {
     "data": {
      "text/plain": [
       "0                                          careless whisper\n",
       "1         could you be loved / citação musical do rap: s...\n",
       "2                                                  cruisin'\n",
       "3                                                      easy\n",
       "4                                           for your babies\n",
       "                                ...                        \n",
       "191809                                          the waiting\n",
       "191810                                too early for the sky\n",
       "191811                                          warsaw 1943\n",
       "191812                           when the system has fallen\n",
       "191813                                  woman be my country\n",
       "Name: SName, Length: 191814, dtype: object"
      ]
     },
     "execution_count": 12,
     "metadata": {},
     "output_type": "execute_result"
    }
   ],
   "source": [
    "# remove sub-contant in name\n",
    "# i.e '()', '/'\n",
    "df['SName'] = df['SName'].apply(lambda x: x.split('(')[0].strip().lower())\n",
    "df['SName']"
   ]
  },
  {
   "cell_type": "code",
   "execution_count": 13,
   "id": "05827af0-c13b-4c07-831a-bdf84ba742c8",
   "metadata": {},
   "outputs": [],
   "source": [
    "def filter_title(x):\n",
    "    splited_x = x.split('/')\n",
    "    if len(splited_x)<=1:\n",
    "        return x\n",
    "    if not splited_x[1].isnumeric():\n",
    "        return splited_x[0].strip()\n",
    "    else:\n",
    "        return x"
   ]
  },
  {
   "cell_type": "code",
   "execution_count": 14,
   "id": "41b4e333-97c2-48c8-86f4-4bb0e7f522de",
   "metadata": {},
   "outputs": [],
   "source": [
    "df['SName']= df['SName'].apply(lambda x: filter_title(x))"
   ]
  },
  {
   "cell_type": "code",
   "execution_count": 15,
   "id": "17dc9026-6953-43e8-838e-57ba8c4359ac",
   "metadata": {},
   "outputs": [
    {
     "data": {
      "text/plain": [
       "0                   careless whisper\n",
       "1                 could you be loved\n",
       "2                           cruisin'\n",
       "3                               easy\n",
       "4                    for your babies\n",
       "                     ...            \n",
       "191809                   the waiting\n",
       "191810         too early for the sky\n",
       "191811                   warsaw 1943\n",
       "191812    when the system has fallen\n",
       "191813           woman be my country\n",
       "Name: SName, Length: 191814, dtype: object"
      ]
     },
     "execution_count": 15,
     "metadata": {},
     "output_type": "execute_result"
    }
   ],
   "source": [
    "df['SName']"
   ]
  },
  {
   "cell_type": "code",
   "execution_count": 16,
   "id": "ecce156f-d45c-4c52-8ce1-ca49cbbe102f",
   "metadata": {},
   "outputs": [],
   "source": [
    "df.to_csv('./data/clean.csv',index=False)"
   ]
  },
  {
   "cell_type": "markdown",
   "id": "96023ba6-c457-4109-b889-0abd8a3bc9e7",
   "metadata": {},
   "source": [
    "# Split"
   ]
  },
  {
   "cell_type": "code",
   "execution_count": 17,
   "id": "409e6ee0-0a55-40f1-b43c-e0a708186d87",
   "metadata": {},
   "outputs": [
    {
     "data": {
      "text/html": [
       "<div>\n",
       "<style scoped>\n",
       "    .dataframe tbody tr th:only-of-type {\n",
       "        vertical-align: middle;\n",
       "    }\n",
       "\n",
       "    .dataframe tbody tr th {\n",
       "        vertical-align: top;\n",
       "    }\n",
       "\n",
       "    .dataframe thead th {\n",
       "        text-align: right;\n",
       "    }\n",
       "</style>\n",
       "<table border=\"1\" class=\"dataframe\">\n",
       "  <thead>\n",
       "    <tr style=\"text-align: right;\">\n",
       "      <th></th>\n",
       "      <th>SName</th>\n",
       "      <th>Lyric</th>\n",
       "      <th>Number_of_words</th>\n",
       "      <th>Number_of_words_title</th>\n",
       "    </tr>\n",
       "  </thead>\n",
       "  <tbody>\n",
       "    <tr>\n",
       "      <th>153119</th>\n",
       "      <td>every christian lion hearted man will show you</td>\n",
       "      <td>oh solo dominique oh solo dominique oh solo do...</td>\n",
       "      <td>124</td>\n",
       "      <td>8</td>\n",
       "    </tr>\n",
       "    <tr>\n",
       "      <th>153120</th>\n",
       "      <td>everybody is a fucking liar</td>\n",
       "      <td>everyone i know is trying to get into this sho...</td>\n",
       "      <td>167</td>\n",
       "      <td>5</td>\n",
       "    </tr>\n",
       "    <tr>\n",
       "      <th>153121</th>\n",
       "      <td>everyone moves away</td>\n",
       "      <td>please forgive, for they know not what they've...</td>\n",
       "      <td>265</td>\n",
       "      <td>3</td>\n",
       "    </tr>\n",
       "    <tr>\n",
       "      <th>153122</th>\n",
       "      <td>fall apart with me</td>\n",
       "      <td>oooh, met you in the summer in the summer wave...</td>\n",
       "      <td>182</td>\n",
       "      <td>4</td>\n",
       "    </tr>\n",
       "    <tr>\n",
       "      <th>153123</th>\n",
       "      <td>fall song</td>\n",
       "      <td>it's too nice to breathe and i was feeling dir...</td>\n",
       "      <td>249</td>\n",
       "      <td>2</td>\n",
       "    </tr>\n",
       "    <tr>\n",
       "      <th>...</th>\n",
       "      <td>...</td>\n",
       "      <td>...</td>\n",
       "      <td>...</td>\n",
       "      <td>...</td>\n",
       "    </tr>\n",
       "    <tr>\n",
       "      <th>191809</th>\n",
       "      <td>the waiting</td>\n",
       "      <td>chorus here we stand waiting on the plain dark...</td>\n",
       "      <td>198</td>\n",
       "      <td>2</td>\n",
       "    </tr>\n",
       "    <tr>\n",
       "      <th>191810</th>\n",
       "      <td>too early for the sky</td>\n",
       "      <td>i nearly disappeared into the mouth of a croco...</td>\n",
       "      <td>137</td>\n",
       "      <td>5</td>\n",
       "    </tr>\n",
       "    <tr>\n",
       "      <th>191811</th>\n",
       "      <td>warsaw 1943</td>\n",
       "      <td>amambuka, amambuka azothengisa izwe lakithi, i...</td>\n",
       "      <td>221</td>\n",
       "      <td>7</td>\n",
       "    </tr>\n",
       "    <tr>\n",
       "      <th>191812</th>\n",
       "      <td>when the system has fallen</td>\n",
       "      <td>sweat in the heat for days on end waiting for ...</td>\n",
       "      <td>260</td>\n",
       "      <td>5</td>\n",
       "    </tr>\n",
       "    <tr>\n",
       "      <th>191813</th>\n",
       "      <td>woman be my country</td>\n",
       "      <td>here we stand on the edge of the day faces mel...</td>\n",
       "      <td>302</td>\n",
       "      <td>4</td>\n",
       "    </tr>\n",
       "  </tbody>\n",
       "</table>\n",
       "<p>38695 rows × 4 columns</p>\n",
       "</div>"
      ],
      "text/plain": [
       "                                                 SName  \\\n",
       "153119  every christian lion hearted man will show you   \n",
       "153120                     everybody is a fucking liar   \n",
       "153121                             everyone moves away   \n",
       "153122                              fall apart with me   \n",
       "153123                                       fall song   \n",
       "...                                                ...   \n",
       "191809                                     the waiting   \n",
       "191810                           too early for the sky   \n",
       "191811                                     warsaw 1943   \n",
       "191812                      when the system has fallen   \n",
       "191813                             woman be my country   \n",
       "\n",
       "                                                    Lyric  Number_of_words  \\\n",
       "153119  oh solo dominique oh solo dominique oh solo do...              124   \n",
       "153120  everyone i know is trying to get into this sho...              167   \n",
       "153121  please forgive, for they know not what they've...              265   \n",
       "153122  oooh, met you in the summer in the summer wave...              182   \n",
       "153123  it's too nice to breathe and i was feeling dir...              249   \n",
       "...                                                   ...              ...   \n",
       "191809  chorus here we stand waiting on the plain dark...              198   \n",
       "191810  i nearly disappeared into the mouth of a croco...              137   \n",
       "191811  amambuka, amambuka azothengisa izwe lakithi, i...              221   \n",
       "191812  sweat in the heat for days on end waiting for ...              260   \n",
       "191813  here we stand on the edge of the day faces mel...              302   \n",
       "\n",
       "        Number_of_words_title  \n",
       "153119                      8  \n",
       "153120                      5  \n",
       "153121                      3  \n",
       "153122                      4  \n",
       "153123                      2  \n",
       "...                       ...  \n",
       "191809                      2  \n",
       "191810                      5  \n",
       "191811                      7  \n",
       "191812                      5  \n",
       "191813                      4  \n",
       "\n",
       "[38695 rows x 4 columns]"
      ]
     },
     "execution_count": 17,
     "metadata": {},
     "output_type": "execute_result"
    }
   ],
   "source": [
    "train, valid = df.iloc[:153119,:], df.iloc[153119:,:]\n",
    "valid"
   ]
  },
  {
   "cell_type": "markdown",
   "id": "a05d8813-3d2d-43f0-a380-27d45f08182d",
   "metadata": {},
   "source": [
    "## Inference"
   ]
  },
  {
   "cell_type": "code",
   "execution_count": 2,
   "id": "0fce3fc8-f318-4b16-9b0c-49d56b1a1584",
   "metadata": {},
   "outputs": [],
   "source": [
    "def generate(lyric):\n",
    "        \n",
    "    tokenizer = AutoTokenizer.from_pretrained(\"victorlifan/autotrain-song_title_generate-939531516\")\n",
    "    model = AutoModelForSeq2SeqLM.from_pretrained(\"victorlifan/autotrain-song_title_generate-939531516\")\n",
    "    \n",
    "    inputs = tokenizer.encode(\"summarize: \" + lyric, return_tensors=\"pt\")\n",
    "    outputs = model.generate(inputs, max_length=24, min_length=1, length_penalty=2.0, num_beams=4, early_stopping=True)\n",
    "    result = tokenizer.decode(outputs[0])\n",
    "    return result"
   ]
  },
  {
   "cell_type": "code",
   "execution_count": 19,
   "id": "9a47963f-5267-4fa9-967a-e651401baad4",
   "metadata": {},
   "outputs": [
    {
     "name": "stdout",
     "output_type": "stream",
     "text": [
      "song id: 175355\n",
      "\n",
      "actual title: i believe in love\n",
      "\n",
      "generated title: <pad> i believe in love</s>\n",
      "\n",
      "lyrics: i believe in good times now and i believe in shows and i believe in the iron cross and as everybody knows  i believe in good time music yeah, good time rock 'n' roll i believe in music, music, music it'll satisfy your soul, but -  ah, i believe love (good time music) yeah, yeah, yeah yeah, now, i believe in love (good time music)  i believe in party time and i believe in soul and i believe in temptation and knock, knock, knocking at your door  and i believe in good times yeah, good times rock 'n' roll yeah, i believe in music, music, music it'll satisfy your soul, but you know that -  ah, i believe love (good time music) yeah, yeah, yeah, yeah yeah, ah, i believe love (good time music)  i believe (i believe), i believe (i believe) i believe in love i believe (i believe), i believe (i believe) yeah, i believe in love i believe (i believe), i believe (i believe) yeah, i believe in love i believe (i believe), i believe,(i believe) yeah, i believe in love yeah, i believe in love, good time music good time rock 'n' roll good time music good time rock 'n' roll good time music good time rock 'n' roll good time music good time rock 'n' roll ... \n",
      "\n",
      "==================================================\n"
     ]
    },
    {
     "name": "stderr",
     "output_type": "stream",
     "text": [
      "Token indices sequence length is longer than the specified maximum sequence length for this model (1178 > 512). Running this sequence through the model will result in indexing errors\n"
     ]
    },
    {
     "name": "stdout",
     "output_type": "stream",
     "text": [
      "song id: 159440\n",
      "\n",
      "actual title: peace\n",
      "\n",
      "generated title: <pad> oh peace</s>\n",
      "\n",
      "lyrics: (peace) it's what i prayer for (peace) oh my (peace) (peace) all around the world (peace) it's what i prayer for (peace) oh my (peace) (peace) hurry  come on in this house children the war has started light the candles right now it's about to be darkness, oh yeah there's no telling when the sun will shine again, no when it's over there's a question asked who wins? who wins?  spirit through the land spirit of peace oh yes spirit move oh move oh yeah heaven send down  (peace) it's what i prayer for (peace) oh my (peace) (peace) all around the world (peace) it's what i prayer for (peace) oh my (peace) (peace) hurry  turn your head, close your eyes there's people out there dying, oh with so much wealth in the land why is this land starving? as i look over this place there's so much hatred if i could i'd pack my bags and hitch hike to heaven  spirit move oh move spirit move all through the land won't you move oh move, oh move, oh move oh move, yeah this is what i prayer for  (peace) for peace (peace) all around the world (peace) woah (peace) i prayer for peace (peace) oh peace (peace) oh peace (peace) heaven shine your light  (shine your light on me) (shine your light on me) let it shine (shine your light on me) oh (shine your light on me) shine your light (shine your light on me) on me (shine your light on me) for the world (shine your light on me) to see (pray for me...) (shine your light on me) let it shine (shine your light on me) real bright (shine your light on me) through the day (shine your light on me) through the night and send us your peace  (peace) that's what i prayer for (peace) oh my (peace) oh (peace) all around the world (peace) it's what i prayer for (peace) peace (peace) peace (peace) all around the world  (peace) peace for the children (peace) peace for the land (peace) peace for all women (peace) and peace for all men (peace) put peace in our hearts (peace) let us know you care (peace) take the storm away (peace) send your peace everywhere (shine your light on me) (peace) in the valleys (shine your light on me) (peace) on the land (shine your light on me) (peace) in the homes (shine your light on me) (peace) oh yeah (shine your light on me) (peace) in solamia (shine your light on me) (peace) liberia (shine your light on me) (peace) etheopia (shine your light on me) (peace) all of africa (shine your light on me) (peace) our soldiers (shine your light on me) (peace) prisons (shine your light on me) (peace) the nations (shine your light on me) (peace) religion (shine your light on me) (peace) the churches (shine your light on me) (peace) the community (shine your light on me) (peace) justice (shine your light on me) (peace) peace (shine your light on me) (peace) then ourselves (shine your light on me) (peace) peace for wars (shine your light on me) (peace) peace in relationships (shine your light on me) (peace) peace in the brother hood (shine your light on me) (peace) oh peace (shine your light on me) (for heavens) (peace) oh peace (shine your light on me) (peace) oh peace (shine your light on me) (peace) oh peace (shine your light on me) (peace) oh peace (shine your light on me) (for heavens) (peace) oh peace (shine your light on me) (peace) oh peace (shine your light on me)  (shine your light on me) oh heaven (send your peace down to me) (shine your light on me) your peace (shine your light on me) for heaven (send your peace down to me) (shine your light on me) your peace (shine your light on me) your peace (shine your light on me) for haven\n",
      "\n",
      "==================================================\n",
      "song id: 155746\n",
      "\n",
      "actual title: brutal love\n",
      "\n",
      "generated title: <pad> this brutal love</s>\n",
      "\n",
      "lyrics: turn out the lights close your eyes turn up the silence the heartache of your life dance forever under the lights this brutal love  oh how you want it you're begging for it but you can't have it even if you try it's in the clutches in my hands of this brutal love  old toys this plastic heart loners and fools are tearing me apart here comes trouble the uninvited this brutal love  danger not quite at home the eyes of temptation the flesh on my bones hello stranger i'm a disaster this brutal love  bad luck bitters and soda anguish and shame the modern fool bad sex buy me a train wreck something for my troubled mind  bad luck bitters and soda anguish and shame the modern fool bad love kiss me i'm loaded something for my troubled mind  drop out drop dead hideous how low is this brutal love?  drop out drop dead hideous how low is this brutal love?  drop out drop dead hideous how low is this brutal love?  drop out drop dead hideous how low is this brutal love?  this brutal love\n",
      "\n",
      "==================================================\n"
     ]
    },
    {
     "name": "stderr",
     "output_type": "stream",
     "text": [
      "Token indices sequence length is longer than the specified maximum sequence length for this model (712 > 512). Running this sequence through the model will result in indexing errors\n"
     ]
    },
    {
     "name": "stdout",
     "output_type": "stream",
     "text": [
      "song id: 169413\n",
      "\n",
      "actual title: contradiction ft chronixx\n",
      "\n",
      "generated title: <pad> contradiction</s>\n",
      "\n",
      "lyrics: [intro: chronixx & alborosie] listen to me now, brother (a whe yuh seh) contradicting yourself chronixx, alborosie tell dem seh listen to me now contradiction is global  [chorus: chronixx & alborosie] yeah, contradiction global madness taking over too much men in mixup one bag o' mixup, rasta nuh live so contradiction global still good conquers evil david still slew goliath mi gwaan hold that vibe here  [part 1: alborosie] too many idolize badness and slackness \"island in the sun\" just falling in darkness one love and one heart? whe the heart deh nowadays you're not cool if yuh nuh heartless flashing with a 9 like you're lawless like justice a-buy out of warness? well got a six for a 9 and a 9 in the waist then a sentence to life 'cause   [chorus: chronixx & alborosie] contradiction global madness taking over too much men in mixup one bag o' mixup, rasta nuh live so contradiction global still good conquers evil david still slew goliath mi gwaan hold that vibe here  [part 2: alborosie] well margarita nuh flankaz (flankaz) when bullets a ram-pam-pam-pam who a-call dem big shots deh dem a do it from a mansion (slowly) like gangstas break out (outrully) all god dem take out politician and gunman are linked so contradiction run the ting yeah  [chorus: chronixx & alborosie] contradiction global madness taking over too much men in mixup one bag o' mixup, rasta nuh live so contradiction global still good conquers evil david still slew goliath mi gwaan hold that vibe here   [part 3: alborosie & chronixx] the contradiction is global still a hail rastafari yeah, ev-ery day i i yeah yeah chronixx, alborosie tell dem yeah na na na na na we tell dem right away hear dem talking positive inside dem nuh good at all gwaan like set them big yeah and everybody else so small two-faced, two-mouth, too lie come in like yuh living two lives too good yet too bad and yuh deh 'pon the two sides people nuh know wha' to choose  [outro: alborosie & chronixx] too many idolize badness and slackness \"island in the sun\" just falling in darkness one love and one heart? whe the heart deh nowadays you must be heartless in the morning, no one bag of, one bag of mixup contradiction is global one bag of... one bag of... one bag of contradiction is global contradiction is global contradiction is global\n",
      "\n",
      "==================================================\n",
      "song id: 167567\n",
      "\n",
      "actual title: juelz santana\n",
      "\n",
      "generated title: <pad> have you seen juelz?</s>\n",
      "\n",
      "lyrics: shortcut to the diplomats lyrics the diplomats - beautiful noise lyrics the diplomats - bout it bout it..., pt. 3 lyrics the diplomats - built this city lyrics the diplomats - dipset anthem lyrics the diplomats - dj enuff freestyle lyrics the diplomats - gangsta lyrics the diplomats - ground zero lyrics the diplomats - have you seen juelz santana (interlude) lyrics the diplomats - hell rell freestyle lyrics the diplomats - hell rell (interlude) lyrics the diplomats - hey ma [remix] lyrics the diplomats - i'm ready lyrics the diplomats - i love you lyrics the diplomats - i really mean it lyrics the diplomats - juelz santana the great lyrics the diplomats - juelz santana (interlude) lyrics the diplomats - let's go lyrics the diplomats - more than music lyrics the diplomats - my love lyrics the diplomats - purple haze lyrics the diplomats - real ni***s lyrics the diplomats - real ni***s (interlude) lyrics the diplomats - the first lyrics the diplomats - this is what i do lyrics the diplomats - un casa lyrics the diplomats - what's really good lyrics the diplomats - who i am lyrics full the diplomats lyrics...   \n",
      "\n",
      "==================================================\n"
     ]
    }
   ],
   "source": [
    "# inference on valid set\n",
    "for idx in np.random.randint(valid.index.min(),valid.index.max(),size=5):\n",
    "    lyric = df['Lyric'][idx]\n",
    "    title = generate(lyric)\n",
    "    \n",
    "    print(f\"song id: {idx}\\n\")\n",
    "    print(f\"actual title: {df['SName'][idx]}\\n\")\n",
    "    print(f\"generated title: {title}\\n\")\n",
    "    print(f\"lyrics: {df['Lyric'][idx]}\\n\")\n",
    "    print('='*50)"
   ]
  },
  {
   "cell_type": "markdown",
   "id": "596c1e6f-f9d6-49b8-b25a-871a415b9954",
   "metadata": {},
   "source": [
    "## Inference on billboard top3 songs (by 06/2022)\n",
    "1. `As It Was` by Harry Styles\n",
    "2. `First Class` by Jack Harlow\n",
    "3. `Wait For U` by Future Featuring Drake & Tems"
   ]
  },
  {
   "cell_type": "code",
   "execution_count": 20,
   "id": "ff76e296-e510-4600-b0aa-00a89cfc3c3e",
   "metadata": {},
   "outputs": [
    {
     "data": {
      "text/plain": [
       "'<pad> as it was</s>'"
      ]
     },
     "execution_count": 20,
     "metadata": {},
     "output_type": "execute_result"
    }
   ],
   "source": [
    "# inference on billboard top song, i.e As It Was (Harry Styles)\n",
    "As_It_Was = '''Holdin' me back\n",
    "Gravity's holdin' me back\n",
    "I want you to hold out the palm of your hand\n",
    "Why don't we leave it at that?\n",
    "Nothin' to say\n",
    "When everything gets in the way\n",
    "Seems you cannot be replaced\n",
    "And I'm the one who will stay, oh\n",
    "In this world, it's just us\n",
    "You know it's not the same as it was\n",
    "In this world, it's just us\n",
    "You know it's not the same as it was\n",
    "As it was, as it was\n",
    "You know it's not the same\n",
    "Answer the phone\n",
    "\"Harry, you're no good alone\n",
    "Why are you sittin' at home on the floor?\n",
    "What kind of pills are you on?\"\n",
    "Ringin' the bell\n",
    "And nobody's comin' to help\n",
    "Your daddy lives by himself\n",
    "He just wants to know that you're well, oh\n",
    "In this world, it's just us\n",
    "You know it's not the same as it was\n",
    "In this world, it's just us\n",
    "You know it's not the same as it was\n",
    "As it was, as it was\n",
    "You know it's not the same\n",
    "Go home, get ahead, light-speed internet\n",
    "I don't wanna talk about the way that it was\n",
    "Leave America, two kids follow her\n",
    "I don't wanna talk about who's doin' it first\n",
    "As it was\n",
    "You know it's not the same as it was\n",
    "As it was, as it was\n",
    "'''\n",
    "generate(As_It_Was)"
   ]
  },
  {
   "cell_type": "code",
   "execution_count": 21,
   "id": "ae7b419a-8a79-489a-9934-02b3a820ca0d",
   "metadata": {},
   "outputs": [
    {
     "name": "stderr",
     "output_type": "stream",
     "text": [
      "Token indices sequence length is longer than the specified maximum sequence length for this model (748 > 512). Running this sequence through the model will result in indexing errors\n"
     ]
    },
    {
     "data": {
      "text/plain": [
       "'<pad> first class</s>'"
      ]
     },
     "execution_count": 21,
     "metadata": {},
     "output_type": "execute_result"
    }
   ],
   "source": [
    "First_Class = '''Mm\n",
    "I been a (G), throw up the (L)\n",
    "Sex in the (A-M), uh-huh\n",
    "(O-R-O-U-S, yeah)\n",
    "And I can put you in (first class, up in the sky)\n",
    "I can put you in (first class, up in the, up-up in the)\n",
    "I been a (G), throw up the (L)\n",
    "Sex in the (A-M), uh-huh\n",
    "(O-R-O-U-S, yeah)\n",
    "And I can put you in (first class, up in the sky), mm, mm\n",
    "I can put you in (first class, up in the, up-up in the)\n",
    "I can see the whole city from this balcony\n",
    "Back in 2019, I was outside freely\n",
    "But now they got it out for me\n",
    "I don't care what frat that you was in\n",
    "You can't alpha me, keep dreamin'\n",
    "Pineapple juice, I give her sweet, sweet, sweet (semen)\n",
    "I know what they like, so I just keep cheesin'\n",
    "Hard drive full of heat seekin'\n",
    "Tryna come the same day as Jack? Rethink it\n",
    "You don't need Givenchy, you need Jesus\n",
    "Why do y'all sleep on me? I need reasons\n",
    "Uh, I got plaques in the mail, peak season\n",
    "Shout out to my UPS workers makin' sure I receive 'em\n",
    "You can do it too, believe it\n",
    "I been a (G), throw up the (L)\n",
    "Sex in the (A-M), uh-huh\n",
    "(O-R-O-U-S, yeah)\n",
    "And I can put you in (first class, up in the sky), mm, mm\n",
    "I can put you in (first class, up in the, up-up in the)\n",
    "Huh, yes, I am\n",
    "They say, \"You a superstar now, \" damn, I guess I am\n",
    "You might be the man, well, that's unless I am\n",
    "Okay, I'll confess I am\n",
    "Go ahead and get undressed, I am\n",
    "Okay cool, you on Sunset? (I am)\n",
    "I'm 'bout to slide, okay, I'm outside, okay\n",
    "This lifestyle don't got many downsides\n",
    "'Cept for the lack of time I get 'round my\n",
    "Family, makin' sure they never downsize\n",
    "I got visions of my mom sayin', \"Wait, this house mine?\"\n",
    "Can't lie, I'm on Angus Cloud nine\n",
    "I got 'em on the bandwagon now, 'bout time\n",
    "I ain't even got no downtime\n",
    "Every time I speak, she say, \"Yeah, that sounds fine\"\n",
    "I been a (G), throw up the (L)\n",
    "Sex in the (A-M), uh-huh\n",
    "(O-R-O-U-S, yeah)\n",
    "And I can put you in (first class, up in the sky)\n",
    "I can put you in (first class, up in the, up-up in the)\n",
    "I been a (G), throw up the (L)\n",
    "Sex in the (A-M), uh-huh\n",
    "(O-R-O-U-S, yeah)\n",
    "And I can put you in (first class, up in the sky), mm, mm\n",
    "I can put you in (first class)\n",
    "'''\n",
    "generate(First_Class)"
   ]
  },
  {
   "cell_type": "code",
   "execution_count": 22,
   "id": "35517c51-ee7e-49a6-bda5-7ddc428f710e",
   "metadata": {},
   "outputs": [
    {
     "name": "stderr",
     "output_type": "stream",
     "text": [
      "Token indices sequence length is longer than the specified maximum sequence length for this model (950 > 512). Running this sequence through the model will result in indexing errors\n"
     ]
    },
    {
     "data": {
      "text/plain": [
       "'<pad> presidential rollie</s>'"
      ]
     },
     "execution_count": 22,
     "metadata": {},
     "output_type": "execute_result"
    }
   ],
   "source": [
    "Wait_For_U = '''Early in the morning, late at night (I will wait for you)\n",
    "It don't even matter what time it is (I will wait for you)\n",
    "Presidential Rollie already on the way (tired, sayin', \"Aye, yi, yi, yi\")\n",
    "Whenever I find time, it's okay (ayy)\n",
    "(ATL Jacob, ATL Jacob)\n",
    "You pray for my demons, girl, I got you\n",
    "Every time I sip on codeine, I get vulnerable\n",
    "Ignoring the sounds of the storm when it come\n",
    "She understand I can't take her everywhere a nigga going\n",
    "I been in the field like the children of the corn\n",
    "I can hear your tears when they drop over the phone\n",
    "Get mad at yourself 'cause you can't leave me alone\n",
    "Gossip, bein' messy, that ain't what we doing (worried 'bout a Xanny)\n",
    "Travel around the world (would you brag, or would you try to get me?)\n",
    "Over the phone, dropping tears (tell me now, I know that you be bragging)\n",
    "I get more vulnerable when I do drugs (tell me now, I need you so bad, yeah)\n",
    "When you drunk, you tell me exactly how you feel (I will wait for you, for you)\n",
    "When I'm loaded, I keep it real (I will wait for you, I will wait for you)\n",
    "Please tell a real one exactly what it is (I will wait, will wait, for you, for you)\n",
    "Don't say it 'cause you know that's what I wanna hear (I will wait for you, I will wait for you)\n",
    "Yeah, I been trapping 'round the world\n",
    "I sit on my balcony and wonder how you feeling\n",
    "I got a career that takes my time away from women\n",
    "I cannot convince you that I love you for a living (will wait for you, for you)\n",
    "I be on your line, feelings flowing like a river\n",
    "You be texting back you at Kiki on the river (I will wait for you)\n",
    "Message say \"Delivered\"(I will wait for you), but I know that you 'on't get it\n",
    "Why you introduce us if you knew that you was with him? (I will wait for you, for you, for you)\n",
    "Made me shake his hand when y'all been fucking for a minute (I will wait for you, for you)\n",
    "Walk me off the plank because you know that I'm a swimmer (I will wait for you)\n",
    "Supposed to be your dawg, but you done put me in a kennel\n",
    "Girl, put a muzzle on it, all that barking over dinner\n",
    "I was fucking with you when you had the tiny Presidential\n",
    "You got better when you met me and that ain't coincidental\n",
    "Tried to bring the best out you but, guess I'm not that influential\n",
    "Guess I'm not the one that's meant for you\n",
    "I can hear your tears when they drop over the phone\n",
    "Get mad at myself 'cause I can't leave you alone\n",
    "Gossip, that messy shit, that ain't what we doing, yeah (worried 'bout a Xanny)\n",
    "Trapping around the world (would you brag, or would you try to get me?)\n",
    "Over the phone, dropping tears (tell me now, I know that you be bragging)\n",
    "I get more vulnerable when I do pills (tell me now, I need you too bad, yeah)\n",
    "When you drunk, you tell me exactly how you feel (I will wait for you, for you)\n",
    "When I'm loaded, I keep it real (I will wait for you, I will wait for you)\n",
    "Please tell a real one exactly what it is (I will wait, will wait, for you, for you)\n",
    "Don't say it 'cause you know that's what I wanna hear (I will wait for you, I will wait for you)\n",
    "Early in the morning, late at night\n",
    "It don't even matter what time it is\n",
    "(Worried 'bout a Xanny, would you brag, or would you try to get me?)\n",
    "(Tell me now, I know that you be bragging)\n",
    "(Tell me now)'''\n",
    "generate(Wait_For_U)"
   ]
  },
  {
   "cell_type": "markdown",
   "id": "37e36e90-d3c1-44b5-a813-294edb49db86",
   "metadata": {},
   "source": [
    "### Edge case: `N95` by Kendrick Lamar"
   ]
  },
  {
   "cell_type": "code",
   "execution_count": 23,
   "id": "f3f5b5e2-3323-40e8-8380-1e157bd94f43",
   "metadata": {},
   "outputs": [
    {
     "name": "stderr",
     "output_type": "stream",
     "text": [
      "Token indices sequence length is longer than the specified maximum sequence length for this model (1169 > 512). Running this sequence through the model will result in indexing errors\n"
     ]
    },
    {
     "data": {
      "text/plain": [
       "'<pad> take it off</s>'"
      ]
     },
     "execution_count": 23,
     "metadata": {},
     "output_type": "execute_result"
    }
   ],
   "source": [
    "# edge case: N95 by Kendrick Lamar\n",
    "N95 = '''Hello, new world, all the boys and girls\n",
    "I got some true stories to tell\n",
    "You're back outside, but they still lied\n",
    "Whoa, oh, oh, oh (yeah)\n",
    "Take off the foo-foo\n",
    "Take off the clout chase\n",
    "Take off the Wi-Fi\n",
    "Take off the money phone\n",
    "Take off the car loan\n",
    "Take off the flex and the white lies\n",
    "Take off the weird-ass jewelry\n",
    "I'ma take ten steps\n",
    "Then I'm takin' off top five\n",
    "Take off them fabricated streams\n",
    "And them microwave memes\n",
    "It's a real world outside (take that shit off)\n",
    "Take off your idols\n",
    "Take off the runway\n",
    "I take off to Cairo (take that shit off)\n",
    "Take off to Saint-Tropez\n",
    "Five day stay, take a quarter mil'\n",
    "Hell, if I know (take that shit off)\n",
    "Take off the false flag\n",
    "Take off perception\n",
    "Take off the cop with the eye patch (take that shit off)\n",
    "Take off the unloyal\n",
    "Take off the unsure\n",
    "Take off decisions I lack (take it off)\n",
    "Take off the fake deep\n",
    "Take off the fake woke\n",
    "Take off the I'm broke, I care (take it off)\n",
    "Take off the gossip\n",
    "Take off the new logic, that if I'm rich, I'm rare (take it off)\n",
    "Take off the Chanel\n",
    "Take off the Dolce\n",
    "Take off the Birkin bag (take it off)\n",
    "Take all that designer bullshit off\n",
    "And what do you have? (Bitch)\n",
    "Huh, huh, uh, you ugly as fuck\n",
    "(You out of pocket)\n",
    "Huh, two ATMs (hah, hah, hah, hah)\n",
    "You steppin' or what? (You out of pocket, huh)\n",
    "Who you think they talk 'bout?\n",
    "Talk about us (you out of pocket, shoot, shoot, shoot)\n",
    "Who you think they copy off? (Brrt, brrt, brrt, brrt)\n",
    "Copy off us (get back in pocket)\n",
    "The world in a panic\n",
    "The women is stranded\n",
    "The men on a run\n",
    "The prophets abandoned\n",
    "The Lord take advantage\n",
    "The market is crashin'\n",
    "The industry wants\n",
    "Niggas and bitches to sleep in a box\n",
    "While they makin' a mockery followin' us\n",
    "This ain't Monopoly\n",
    "Watchin' for love\n",
    "This ain't monogamy\n",
    "Y'all gettin' fucked\n",
    "Jumpin' on what the hell is that?\n",
    "I gotta relax when I feel (huh, facts)\n",
    "All of my descendants\n",
    "They come in my sleep and say I am too real (huh, facts)\n",
    "I'm done with the sensitive takin' it personal\n",
    "Done with the black and the white\n",
    "The wrong and the right\n",
    "You hopin' for change and clericals\n",
    "I know the feelings that came with burial's cries (bitch)\n",
    "Huh, huh, uh, you ugly as fuck\n",
    "(You out of pocket)\n",
    "Huh, two ATMs (hah, hah, hah, hah)\n",
    "You steppin' or what? (You out of pocket, huh)\n",
    "Who you think they talk 'bout?\n",
    "Talk about us (you out of pocket, shoot, shoot, shoot)\n",
    "Who you think they copy off?\n",
    "Copy off us (brrt, brrt, brrt, brrt)\n",
    "Servin' up a look, dancin' in the drought\n",
    "Hello to the big stepper, never losin' count\n",
    "Ventin' in the safe house, ventin' in the sa-, ahh\n",
    "Can I vent all my truth?\n",
    "I got nothin' to lose\n",
    "I got problems and pools\n",
    "I can swim in my faith\n",
    "Camera's movin' whenever I'm movin'\n",
    "The family suin' whatever I make\n",
    "Murder is stackin', the president actin'\n",
    "The government taxin' my funds in the bank\n",
    "Homies attractin' the feds\n",
    "When I'm brackin', look at my reaction\n",
    "My pupils on skates (hold up, hold up)\n",
    "Let's think about this for a second (let's go)\n",
    "Tell me what you would do for aesthetic (let's go)\n",
    "Would you sell your soul on credit? (Let's go)\n",
    "Would you sell your bro for leverage? (Let's go)\n",
    "Where the hypocrites at?\n",
    "What community feel\n",
    "They the only ones relevant? (Let's go)\n",
    "Where the hypocrites at?\n",
    "What community feel\n",
    "They the only ones relevant? (Let's go)\n",
    "You outta pocket, yeah, you outta pocket (this shit hard)\n",
    "You entertain the mediocre, need to stop it (this shit hard)\n",
    "You entertainin' old friends when they toxic (this shit hard)\n",
    "What's your life like? Bullshit and gossip (this shit hard)\n",
    "What the fuck is cancel culture, dawg?\n",
    "Say what I want about you niggas\n",
    "I'm like Oprah, dawg\n",
    "I treat you crackers like I'm Jigga, watch\n",
    "I own it all\n",
    "Oh, you worried 'bout a critic?\n",
    "That ain't protocol (bitch)'''\n",
    "generate(N95)"
   ]
  }
 ],
 "metadata": {
  "kernelspec": {
   "display_name": "Python 3",
   "language": "python",
   "name": "python3"
  },
  "language_info": {
   "codemirror_mode": {
    "name": "ipython",
    "version": 3
   },
   "file_extension": ".py",
   "mimetype": "text/x-python",
   "name": "python",
   "nbconvert_exporter": "python",
   "pygments_lexer": "ipython3",
   "version": "3.9.13"
  }
 },
 "nbformat": 4,
 "nbformat_minor": 5
}
