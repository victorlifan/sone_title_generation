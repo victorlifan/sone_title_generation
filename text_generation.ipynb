{
 "cells": [
  {
   "cell_type": "markdown",
   "id": "9a2135b5-35b1-449e-b17c-a528ce9dfd2c",
   "metadata": {
    "tags": []
   },
   "source": [
    "# Autotrain-huggingface: victorlifan/autotrain-song_title_generate-939531516"
   ]
  },
  {
   "cell_type": "code",
   "execution_count": 1,
   "id": "339e4f5a-cf03-4ff6-9493-f6ab55cccbf9",
   "metadata": {},
   "outputs": [],
   "source": [
    "import pandas as pd\n",
    "from transformers import AutoTokenizer, AutoModelForSeq2SeqLM\n",
    "import numpy as np\n",
    "import seaborn as sns\n",
    "import matplotlib.pyplot as plt\n",
    "import re\n",
    "import torch"
   ]
  },
  {
   "cell_type": "markdown",
   "id": "7e902fac-1f3c-43bc-823c-57249328a045",
   "metadata": {},
   "source": [
    "# Data"
   ]
  },
  {
   "cell_type": "code",
   "execution_count": 2,
   "id": "c66f13af-8706-4d6b-8c8e-8e3560ab9aa8",
   "metadata": {},
   "outputs": [
    {
     "data": {
      "text/html": [
       "<div>\n",
       "<style scoped>\n",
       "    .dataframe tbody tr th:only-of-type {\n",
       "        vertical-align: middle;\n",
       "    }\n",
       "\n",
       "    .dataframe tbody tr th {\n",
       "        vertical-align: top;\n",
       "    }\n",
       "\n",
       "    .dataframe thead th {\n",
       "        text-align: right;\n",
       "    }\n",
       "</style>\n",
       "<table border=\"1\" class=\"dataframe\">\n",
       "  <thead>\n",
       "    <tr style=\"text-align: right;\">\n",
       "      <th></th>\n",
       "      <th>ALink</th>\n",
       "      <th>SName</th>\n",
       "      <th>SLink</th>\n",
       "      <th>Lyric</th>\n",
       "      <th>language</th>\n",
       "    </tr>\n",
       "  </thead>\n",
       "  <tbody>\n",
       "    <tr>\n",
       "      <th>0</th>\n",
       "      <td>/ivete-sangalo/</td>\n",
       "      <td>Careless Whisper</td>\n",
       "      <td>/ivete-sangalo/careless-whisper.html</td>\n",
       "      <td>I feel so unsure\\nAs I take your hand and lead...</td>\n",
       "      <td>en</td>\n",
       "    </tr>\n",
       "    <tr>\n",
       "      <th>1</th>\n",
       "      <td>/ivete-sangalo/</td>\n",
       "      <td>Could You Be Loved / Citação Musical do Rap: S...</td>\n",
       "      <td>/ivete-sangalo/could-you-be-loved-citacao-musi...</td>\n",
       "      <td>Don't let them fool, ya\\nOr even try to school...</td>\n",
       "      <td>en</td>\n",
       "    </tr>\n",
       "    <tr>\n",
       "      <th>2</th>\n",
       "      <td>/ivete-sangalo/</td>\n",
       "      <td>Cruisin' (Part. Saulo)</td>\n",
       "      <td>/ivete-sangalo/cruisin-part-saulo.html</td>\n",
       "      <td>Baby, let's cruise, away from here\\nDon't be c...</td>\n",
       "      <td>en</td>\n",
       "    </tr>\n",
       "    <tr>\n",
       "      <th>3</th>\n",
       "      <td>/ivete-sangalo/</td>\n",
       "      <td>Easy</td>\n",
       "      <td>/ivete-sangalo/easy.html</td>\n",
       "      <td>Know it sounds funny\\nBut, I just can't stand ...</td>\n",
       "      <td>en</td>\n",
       "    </tr>\n",
       "    <tr>\n",
       "      <th>4</th>\n",
       "      <td>/ivete-sangalo/</td>\n",
       "      <td>For Your Babies (The Voice cover)</td>\n",
       "      <td>/ivete-sangalo/for-your-babies-the-voice-cover...</td>\n",
       "      <td>You've got that look again\\nThe one I hoped I ...</td>\n",
       "      <td>en</td>\n",
       "    </tr>\n",
       "  </tbody>\n",
       "</table>\n",
       "</div>"
      ],
      "text/plain": [
       "             ALink                                              SName  \\\n",
       "0  /ivete-sangalo/                                   Careless Whisper   \n",
       "1  /ivete-sangalo/  Could You Be Loved / Citação Musical do Rap: S...   \n",
       "2  /ivete-sangalo/                             Cruisin' (Part. Saulo)   \n",
       "3  /ivete-sangalo/                                               Easy   \n",
       "4  /ivete-sangalo/                  For Your Babies (The Voice cover)   \n",
       "\n",
       "                                               SLink  \\\n",
       "0               /ivete-sangalo/careless-whisper.html   \n",
       "1  /ivete-sangalo/could-you-be-loved-citacao-musi...   \n",
       "2             /ivete-sangalo/cruisin-part-saulo.html   \n",
       "3                           /ivete-sangalo/easy.html   \n",
       "4  /ivete-sangalo/for-your-babies-the-voice-cover...   \n",
       "\n",
       "                                               Lyric language  \n",
       "0  I feel so unsure\\nAs I take your hand and lead...       en  \n",
       "1  Don't let them fool, ya\\nOr even try to school...       en  \n",
       "2  Baby, let's cruise, away from here\\nDon't be c...       en  \n",
       "3  Know it sounds funny\\nBut, I just can't stand ...       en  \n",
       "4  You've got that look again\\nThe one I hoped I ...       en  "
      ]
     },
     "execution_count": 2,
     "metadata": {},
     "output_type": "execute_result"
    }
   ],
   "source": [
    "df = pd.read_csv('lyrics-data.csv')\n",
    "df = df[df['language']=='en']\n",
    "df.reset_index(inplace=True,drop=True)\n",
    "df.head()"
   ]
  },
  {
   "cell_type": "code",
   "execution_count": 3,
   "id": "09a9a228-0e02-4bf8-9e93-21346519d3e0",
   "metadata": {},
   "outputs": [],
   "source": [
    "# drop \n",
    "df.drop(['ALink','SLink','language'],axis=1,inplace=True)"
   ]
  },
  {
   "cell_type": "code",
   "execution_count": 4,
   "id": "0522def3-7628-4d05-8467-77a34e5cfdd5",
   "metadata": {},
   "outputs": [
    {
     "name": "stdout",
     "output_type": "stream",
     "text": [
      "<class 'pandas.core.frame.DataFrame'>\n",
      "RangeIndex: 191814 entries, 0 to 191813\n",
      "Data columns (total 2 columns):\n",
      " #   Column  Non-Null Count   Dtype \n",
      "---  ------  --------------   ----- \n",
      " 0   SName   191812 non-null  object\n",
      " 1   Lyric   191814 non-null  object\n",
      "dtypes: object(2)\n",
      "memory usage: 2.9+ MB\n"
     ]
    }
   ],
   "source": [
    "df.info()"
   ]
  },
  {
   "cell_type": "code",
   "execution_count": 5,
   "id": "f25ead75-bf78-4133-857a-8b734d4e6188",
   "metadata": {},
   "outputs": [
    {
     "name": "stdout",
     "output_type": "stream",
     "text": [
      "186534\n"
     ]
    },
    {
     "data": {
      "text/plain": [
       "(\"That's What I Believe\",\n",
       " \"There's always one of the girls that all\\n\\nThe guys dream about\\n\\nAnd you hold her in your heart\\n\\nImagining how you'll work it out\\n\\nSo you meet her ev'ry place you can devise\\n\\n'Cause from the start you knew\\n\\nThe one she wants is you\\n\\n\\n\\nI know it's right when it comes as easy\\n\\nAs apple pie\\n\\nWhen you just can't do it wrong\\n\\nShe's going for ev'rything you try\\n\\nIf she chose you over all those other guys\\n\\nIt must be luck or simply fate\\n\\nBut it's sure worth the wait\\n\\n\\n\\nThat's the way I feel about it\\nAnd theres no one who should ever doubt it\\nYou can't stop a star\\nWhen love is on the rise\\n\\n\\n\\nThat's what I believe\\n\\nLove could be 'round the corner\\n\\nAll you've got to do is dream\\n\\nAnd never compromise\\n\\nThat's what I believe\\n\\n\\n\\nI found the world in my arms the moment\\n\\nI lost my heart\\n\\nAnd the bond is much too strong for\\n\\nAnyone else to put apart\\n\\nSo I cherish ev'ry moment that she's near\\n\\nYou see the best things in your lives\\n\\nIf you just close your eyes\\n\\n\\n\\nThat's the way I feel about it\\n\\nAnd she maybe out there\\n\\nWaiting just like you\\n\\n'Cause at the strangest time and place\\n\\nYou'll find you're face to face\\n\\nThat's the way I feel about it\\n\")"
      ]
     },
     "execution_count": 5,
     "metadata": {},
     "output_type": "execute_result"
    }
   ],
   "source": [
    "idx =np.random.randint(0,len(df))\n",
    "#idx =2\n",
    "print(idx)\n",
    "df['SName'][idx],df['Lyric'][idx]"
   ]
  },
  {
   "cell_type": "markdown",
   "id": "8168b27a-5c0f-41e8-9db6-b5e38b57918f",
   "metadata": {},
   "source": [
    "## Data Visualization"
   ]
  },
  {
   "cell_type": "code",
   "execution_count": 6,
   "id": "5eb2250b-3384-4829-bd46-cdcca439232b",
   "metadata": {},
   "outputs": [
    {
     "data": {
      "text/html": [
       "<div>\n",
       "<style scoped>\n",
       "    .dataframe tbody tr th:only-of-type {\n",
       "        vertical-align: middle;\n",
       "    }\n",
       "\n",
       "    .dataframe tbody tr th {\n",
       "        vertical-align: top;\n",
       "    }\n",
       "\n",
       "    .dataframe thead th {\n",
       "        text-align: right;\n",
       "    }\n",
       "</style>\n",
       "<table border=\"1\" class=\"dataframe\">\n",
       "  <thead>\n",
       "    <tr style=\"text-align: right;\">\n",
       "      <th></th>\n",
       "      <th>SName</th>\n",
       "      <th>Lyric</th>\n",
       "      <th>Number_of_words</th>\n",
       "      <th>Number_of_words_title</th>\n",
       "    </tr>\n",
       "  </thead>\n",
       "  <tbody>\n",
       "    <tr>\n",
       "      <th>0</th>\n",
       "      <td>Careless Whisper</td>\n",
       "      <td>I feel so unsure\\nAs I take your hand and lead...</td>\n",
       "      <td>299</td>\n",
       "      <td>2</td>\n",
       "    </tr>\n",
       "    <tr>\n",
       "      <th>1</th>\n",
       "      <td>Could You Be Loved / Citação Musical do Rap: S...</td>\n",
       "      <td>Don't let them fool, ya\\nOr even try to school...</td>\n",
       "      <td>161</td>\n",
       "      <td>11</td>\n",
       "    </tr>\n",
       "    <tr>\n",
       "      <th>2</th>\n",
       "      <td>Cruisin' (Part. Saulo)</td>\n",
       "      <td>Baby, let's cruise, away from here\\nDon't be c...</td>\n",
       "      <td>159</td>\n",
       "      <td>3</td>\n",
       "    </tr>\n",
       "    <tr>\n",
       "      <th>3</th>\n",
       "      <td>Easy</td>\n",
       "      <td>Know it sounds funny\\nBut, I just can't stand ...</td>\n",
       "      <td>175</td>\n",
       "      <td>1</td>\n",
       "    </tr>\n",
       "    <tr>\n",
       "      <th>4</th>\n",
       "      <td>For Your Babies (The Voice cover)</td>\n",
       "      <td>You've got that look again\\nThe one I hoped I ...</td>\n",
       "      <td>215</td>\n",
       "      <td>6</td>\n",
       "    </tr>\n",
       "  </tbody>\n",
       "</table>\n",
       "</div>"
      ],
      "text/plain": [
       "                                               SName  \\\n",
       "0                                   Careless Whisper   \n",
       "1  Could You Be Loved / Citação Musical do Rap: S...   \n",
       "2                             Cruisin' (Part. Saulo)   \n",
       "3                                               Easy   \n",
       "4                  For Your Babies (The Voice cover)   \n",
       "\n",
       "                                               Lyric  Number_of_words  \\\n",
       "0  I feel so unsure\\nAs I take your hand and lead...              299   \n",
       "1  Don't let them fool, ya\\nOr even try to school...              161   \n",
       "2  Baby, let's cruise, away from here\\nDon't be c...              159   \n",
       "3  Know it sounds funny\\nBut, I just can't stand ...              175   \n",
       "4  You've got that look again\\nThe one I hoped I ...              215   \n",
       "\n",
       "   Number_of_words_title  \n",
       "0                      2  \n",
       "1                     11  \n",
       "2                      3  \n",
       "3                      1  \n",
       "4                      6  "
      ]
     },
     "execution_count": 6,
     "metadata": {},
     "output_type": "execute_result"
    }
   ],
   "source": [
    "df['Number_of_words'] = df['Lyric'].apply(lambda x:len(str(x).split()))\n",
    "df['Number_of_words_title'] = df['SName'].apply(lambda x:len(str(x).split()))\n",
    "df.head()"
   ]
  },
  {
   "cell_type": "code",
   "execution_count": 7,
   "id": "c9e69fb3-9df9-4835-871e-5f43e2adc5ee",
   "metadata": {},
   "outputs": [
    {
     "data": {
      "text/plain": [
       "count    191814.000000\n",
       "mean        250.229159\n",
       "std         159.288438\n",
       "min           1.000000\n",
       "25%         147.000000\n",
       "50%         211.000000\n",
       "75%         304.000000\n",
       "max        3422.000000\n",
       "Name: Number_of_words, dtype: float64"
      ]
     },
     "execution_count": 7,
     "metadata": {},
     "output_type": "execute_result"
    }
   ],
   "source": [
    "# statistical info\n",
    "df['Number_of_words'].describe()"
   ]
  },
  {
   "cell_type": "code",
   "execution_count": 8,
   "id": "6e2bf506-aa59-4daa-b321-267438119467",
   "metadata": {},
   "outputs": [
    {
     "data": {
      "text/plain": [
       "count    191814.000000\n",
       "mean          3.188052\n",
       "std           1.834878\n",
       "min           1.000000\n",
       "25%           2.000000\n",
       "50%           3.000000\n",
       "75%           4.000000\n",
       "max          24.000000\n",
       "Name: Number_of_words_title, dtype: float64"
      ]
     },
     "execution_count": 8,
     "metadata": {},
     "output_type": "execute_result"
    }
   ],
   "source": [
    "df['Number_of_words_title'].describe()"
   ]
  },
  {
   "cell_type": "code",
   "execution_count": 9,
   "id": "806a6214-5f04-41f4-8573-0f475bd52d45",
   "metadata": {},
   "outputs": [
    {
     "data": {
      "image/png": "[encoded data removed]",
      "text/plain": [
       "<Figure size 720x360 with 1 Axes>"
      ]
     },
     "metadata": {
      "needs_background": "light"
     },
     "output_type": "display_data"
    }
   ],
   "source": [
    "plt.figure(figsize=(10,5))\n",
    "sns.histplot(df['Number_of_words'])\n",
    "plt.title(\"Frequency distribution of number of words for each text extracted\");"
   ]
  },
  {
   "cell_type": "code",
   "execution_count": 10,
   "id": "0cf58cf1-11be-45d3-bf08-1630353ea067",
   "metadata": {},
   "outputs": [
    {
     "data": {
      "text/plain": [
       "0                                          Careless Whisper\n",
       "1         Could You Be Loved / Citação Musical do Rap: S...\n",
       "2                                    Cruisin' (Part. Saulo)\n",
       "3                                                      Easy\n",
       "4                         For Your Babies (The Voice cover)\n",
       "                                ...                        \n",
       "191809                                          The Waiting\n",
       "191810                                Too Early For The Sky\n",
       "191811        Warsaw 1943 (I Never Betrayed The Revolution)\n",
       "191812                           When The System Has Fallen\n",
       "191813                                  Woman Be My Country\n",
       "Name: SName, Length: 191814, dtype: object"
      ]
     },
     "execution_count": 10,
     "metadata": {},
     "output_type": "execute_result"
    }
   ],
   "source": [
    "df['SName'] = df['SName'].astype(str)\n",
    "df['SName']"
   ]
  },
  {
   "cell_type": "markdown",
   "id": "abd0f22d-9d53-46d6-bb3f-ce64edbd43cc",
   "metadata": {},
   "source": [
    "---\n",
    "## Clean up title and lyric"
   ]
  },
  {
   "cell_type": "code",
   "execution_count": 11,
   "id": "74c6ac7b-2af5-465b-b2bd-8853b8a4e7a1",
   "metadata": {},
   "outputs": [],
   "source": [
    "# remove \\n in lyric\n",
    "df['Lyric'] = df['Lyric'].apply(lambda x: re.sub(\"\\n\", ' ', x).lower())"
   ]
  },
  {
   "cell_type": "code",
   "execution_count": 12,
   "id": "15818dda-2b20-4493-8321-e8a85a627a56",
   "metadata": {},
   "outputs": [
    {
     "data": {
      "text/plain": [
       "0                                          careless whisper\n",
       "1         could you be loved / citação musical do rap: s...\n",
       "2                                                  cruisin'\n",
       "3                                                      easy\n",
       "4                                           for your babies\n",
       "                                ...                        \n",
       "191809                                          the waiting\n",
       "191810                                too early for the sky\n",
       "191811                                          warsaw 1943\n",
       "191812                           when the system has fallen\n",
       "191813                                  woman be my country\n",
       "Name: SName, Length: 191814, dtype: object"
      ]
     },
     "execution_count": 12,
     "metadata": {},
     "output_type": "execute_result"
    }
   ],
   "source": [
    "# remove sub-contant in name\n",
    "# i.e '()', '/'\n",
    "df['SName'] = df['SName'].apply(lambda x: x.split('(')[0].strip().lower())\n",
    "df['SName']"
   ]
  },
  {
   "cell_type": "code",
   "execution_count": 13,
   "id": "05827af0-c13b-4c07-831a-bdf84ba742c8",
   "metadata": {},
   "outputs": [],
   "source": [
    "def filter_title(x):\n",
    "    splited_x = x.split('/')\n",
    "    if len(splited_x)<=1:\n",
    "        return x\n",
    "    if not splited_x[1].isnumeric():\n",
    "        return splited_x[0].strip()\n",
    "    else:\n",
    "        return x"
   ]
  },
  {
   "cell_type": "code",
   "execution_count": 14,
   "id": "41b4e333-97c2-48c8-86f4-4bb0e7f522de",
   "metadata": {},
   "outputs": [],
   "source": [
    "df['SName']= df['SName'].apply(lambda x: filter_title(x))"
   ]
  },
  {
   "cell_type": "code",
   "execution_count": 15,
   "id": "17dc9026-6953-43e8-838e-57ba8c4359ac",
   "metadata": {},
   "outputs": [
    {
     "data": {
      "text/plain": [
       "0                   careless whisper\n",
       "1                 could you be loved\n",
       "2                           cruisin'\n",
       "3                               easy\n",
       "4                    for your babies\n",
       "                     ...            \n",
       "191809                   the waiting\n",
       "191810         too early for the sky\n",
       "191811                   warsaw 1943\n",
       "191812    when the system has fallen\n",
       "191813           woman be my country\n",
       "Name: SName, Length: 191814, dtype: object"
      ]
     },
     "execution_count": 15,
     "metadata": {},
     "output_type": "execute_result"
    }
   ],
   "source": [
    "df['SName']"
   ]
  },
  {
   "cell_type": "code",
   "execution_count": 16,
   "id": "ecce156f-d45c-4c52-8ce1-ca49cbbe102f",
   "metadata": {},
   "outputs": [],
   "source": [
    "df.to_csv('clean.csv',index=False)"
   ]
  },
  {
   "cell_type": "markdown",
   "id": "96023ba6-c457-4109-b889-0abd8a3bc9e7",
   "metadata": {},
   "source": [
    "# Split"
   ]
  },
  {
   "cell_type": "code",
   "execution_count": 17,
   "id": "409e6ee0-0a55-40f1-b43c-e0a708186d87",
   "metadata": {},
   "outputs": [
    {
     "data": {
      "text/html": [
       "<div>\n",
       "<style scoped>\n",
       "    .dataframe tbody tr th:only-of-type {\n",
       "        vertical-align: middle;\n",
       "    }\n",
       "\n",
       "    .dataframe tbody tr th {\n",
       "        vertical-align: top;\n",
       "    }\n",
       "\n",
       "    .dataframe thead th {\n",
       "        text-align: right;\n",
       "    }\n",
       "</style>\n",
       "<table border=\"1\" class=\"dataframe\">\n",
       "  <thead>\n",
       "    <tr style=\"text-align: right;\">\n",
       "      <th></th>\n",
       "      <th>SName</th>\n",
       "      <th>Lyric</th>\n",
       "      <th>Number_of_words</th>\n",
       "      <th>Number_of_words_title</th>\n",
       "    </tr>\n",
       "  </thead>\n",
       "  <tbody>\n",
       "    <tr>\n",
       "      <th>153119</th>\n",
       "      <td>every christian lion hearted man will show you</td>\n",
       "      <td>oh solo dominique oh solo dominique oh solo do...</td>\n",
       "      <td>124</td>\n",
       "      <td>8</td>\n",
       "    </tr>\n",
       "    <tr>\n",
       "      <th>153120</th>\n",
       "      <td>everybody is a fucking liar</td>\n",
       "      <td>everyone i know is trying to get into this sho...</td>\n",
       "      <td>167</td>\n",
       "      <td>5</td>\n",
       "    </tr>\n",
       "    <tr>\n",
       "      <th>153121</th>\n",
       "      <td>everyone moves away</td>\n",
       "      <td>please forgive, for they know not what they've...</td>\n",
       "      <td>265</td>\n",
       "      <td>3</td>\n",
       "    </tr>\n",
       "    <tr>\n",
       "      <th>153122</th>\n",
       "      <td>fall apart with me</td>\n",
       "      <td>oooh, met you in the summer in the summer wave...</td>\n",
       "      <td>182</td>\n",
       "      <td>4</td>\n",
       "    </tr>\n",
       "    <tr>\n",
       "      <th>153123</th>\n",
       "      <td>fall song</td>\n",
       "      <td>it's too nice to breathe and i was feeling dir...</td>\n",
       "      <td>249</td>\n",
       "      <td>2</td>\n",
       "    </tr>\n",
       "    <tr>\n",
       "      <th>...</th>\n",
       "      <td>...</td>\n",
       "      <td>...</td>\n",
       "      <td>...</td>\n",
       "      <td>...</td>\n",
       "    </tr>\n",
       "    <tr>\n",
       "      <th>191809</th>\n",
       "      <td>the waiting</td>\n",
       "      <td>chorus here we stand waiting on the plain dark...</td>\n",
       "      <td>198</td>\n",
       "      <td>2</td>\n",
       "    </tr>\n",
       "    <tr>\n",
       "      <th>191810</th>\n",
       "      <td>too early for the sky</td>\n",
       "      <td>i nearly disappeared into the mouth of a croco...</td>\n",
       "      <td>137</td>\n",
       "      <td>5</td>\n",
       "    </tr>\n",
       "    <tr>\n",
       "      <th>191811</th>\n",
       "      <td>warsaw 1943</td>\n",
       "      <td>amambuka, amambuka azothengisa izwe lakithi, i...</td>\n",
       "      <td>221</td>\n",
       "      <td>7</td>\n",
       "    </tr>\n",
       "    <tr>\n",
       "      <th>191812</th>\n",
       "      <td>when the system has fallen</td>\n",
       "      <td>sweat in the heat for days on end waiting for ...</td>\n",
       "      <td>260</td>\n",
       "      <td>5</td>\n",
       "    </tr>\n",
       "    <tr>\n",
       "      <th>191813</th>\n",
       "      <td>woman be my country</td>\n",
       "      <td>here we stand on the edge of the day faces mel...</td>\n",
       "      <td>302</td>\n",
       "      <td>4</td>\n",
       "    </tr>\n",
       "  </tbody>\n",
       "</table>\n",
       "<p>38695 rows × 4 columns</p>\n",
       "</div>"
      ],
      "text/plain": [
       "                                                 SName  \\\n",
       "153119  every christian lion hearted man will show you   \n",
       "153120                     everybody is a fucking liar   \n",
       "153121                             everyone moves away   \n",
       "153122                              fall apart with me   \n",
       "153123                                       fall song   \n",
       "...                                                ...   \n",
       "191809                                     the waiting   \n",
       "191810                           too early for the sky   \n",
       "191811                                     warsaw 1943   \n",
       "191812                      when the system has fallen   \n",
       "191813                             woman be my country   \n",
       "\n",
       "                                                    Lyric  Number_of_words  \\\n",
       "153119  oh solo dominique oh solo dominique oh solo do...              124   \n",
       "153120  everyone i know is trying to get into this sho...              167   \n",
       "153121  please forgive, for they know not what they've...              265   \n",
       "153122  oooh, met you in the summer in the summer wave...              182   \n",
       "153123  it's too nice to breathe and i was feeling dir...              249   \n",
       "...                                                   ...              ...   \n",
       "191809  chorus here we stand waiting on the plain dark...              198   \n",
       "191810  i nearly disappeared into the mouth of a croco...              137   \n",
       "191811  amambuka, amambuka azothengisa izwe lakithi, i...              221   \n",
       "191812  sweat in the heat for days on end waiting for ...              260   \n",
       "191813  here we stand on the edge of the day faces mel...              302   \n",
       "\n",
       "        Number_of_words_title  \n",
       "153119                      8  \n",
       "153120                      5  \n",
       "153121                      3  \n",
       "153122                      4  \n",
       "153123                      2  \n",
       "...                       ...  \n",
       "191809                      2  \n",
       "191810                      5  \n",
       "191811                      7  \n",
       "191812                      5  \n",
       "191813                      4  \n",
       "\n",
       "[38695 rows x 4 columns]"
      ]
     },
     "execution_count": 17,
     "metadata": {},
     "output_type": "execute_result"
    }
   ],
   "source": [
    "train, valid = df.iloc[:153119,:], df.iloc[153119:,:]\n",
    "valid"
   ]
  },
  {
   "cell_type": "markdown",
   "id": "a05d8813-3d2d-43f0-a380-27d45f08182d",
   "metadata": {},
   "source": [
    "## Inference"
   ]
  },
  {
   "cell_type": "code",
   "execution_count": 18,
   "id": "0fce3fc8-f318-4b16-9b0c-49d56b1a1584",
   "metadata": {},
   "outputs": [],
   "source": [
    "def generate(lyric):\n",
    "        \n",
    "    tokenizer = AutoTokenizer.from_pretrained(\"victorlifan/autotrain-song_title_generate-939531516\")\n",
    "    model = AutoModelForSeq2SeqLM.from_pretrained(\"victorlifan/autotrain-song_title_generate-939531516\")\n",
    "    \n",
    "    inputs = tokenizer.encode(\"summarize: \" + lyric, return_tensors=\"pt\")\n",
    "    outputs = model.generate(inputs, max_length=24, min_length=1, length_penalty=2.0, num_beams=4, early_stopping=True)\n",
    "    result = tokenizer.decode(outputs[0])\n",
    "    return result"
   ]
  },
  {
   "cell_type": "code",
   "execution_count": 19,
   "id": "9a47963f-5267-4fa9-967a-e651401baad4",
   "metadata": {},
   "outputs": [
    {
     "name": "stdout",
     "output_type": "stream",
     "text": [
      "song id: 154812\n",
      "\n",
      "actual title: for you blue\n",
      "\n",
      "generated title: <pad> because you're sweet</s>\n",
      "\n",
      "lyrics: because you're sweet and lovely girl i love you, because you're sweet and lovely girl it's true, i love you more than ever girl i do.  i want you in the morning girl i love you, i want you at the moment i feel blue, i'm living ev'ry moment girl for you.  i've loved you from the moment that i saw you, you looked at me that's all you had to do, i feel it now i hope you feel it too.  because you're sweet and lovely girl i love you, because you're sweet and lovely girl it's true, i love you more than ever girl i do.\n",
      "\n",
      "==================================================\n",
      "song id: 157715\n",
      "\n",
      "actual title: the struggle\n",
      "\n",
      "generated title: <pad> the struggle</s>\n",
      "\n",
      "lyrics: by ana lu  the struggle  the struggle is in our hearts it's in our hands so whom do we really serve what can we trust what have we planned firmly fix your heart your mind will follow ever longing everlasting the truth is sometimes hard to swallow we all understand the choice is in our hands and chances are the choice has been pre-made as a plastic figurine slapped in a magazine or on your cable tv screen so what exactly is it you believe or maybe you don't know or maybe you wear it on your sleeve i've got to ask myself the same i've got to throw myself around because i know i've let you down \n",
      "\n",
      "==================================================\n",
      "song id: 177003\n",
      "\n",
      "actual title: orange\n",
      "\n",
      "generated title: <pad> jungle revenge</s>\n",
      "\n",
      "lyrics: lineage closed dissolved in its birth tragedy prelude a balance is a synergy of reason malicious hope as techno atrocities lapse their effects associate these ends their clarity demands your revenge please compensate not deny jungle revenge infanticide crosses very thin walls latent casualties arrive from fatal initiation no longer recessive genetic aliens abandoned plain deceit in the mirage of a just one time cause we'd all changed the clocks no ladies auxiliary to kiss their blistered cheeks gone\n",
      "\n",
      "==================================================\n",
      "song id: 188389\n",
      "\n",
      "actual title: sir, your fashion has the cold heart of a killer\n",
      "\n",
      "generated title: <pad> dear sir</s>\n",
      "\n",
      "lyrics: i miss you, you know, and i just want to come home. i scream into the night, that same old fear gripping me tight. i tried calling but a man picked up the phone. he said that nobody was home and could i please leave him alone. back in this ghost town and i'm just trying to get by. trying to escape these dreams that just will not stop chasing me down. i look for you almost every night. see, since you've gone away i don't have strength in me to stay.  dear sir your fashion, it has the cold heart, of a killer.  and all our reasons they keep going somewhere. the devil to one side of me seems to believe in killing me. i'd hold you but my arms have stripped bare. let's make it through tonight and then we need to make it right. how would we both feel if one of us soon were gone? see, i'm not sure the risk is any longer really worth it. in the meantime let's just not use the phone. no more emergency calls. please, no more sirens anymore.  dear sir your fashion, it has the cold heart, of a killer.  so we wait. we wait. no control. no reason.\n",
      "\n",
      "==================================================\n"
     ]
    },
    {
     "name": "stderr",
     "output_type": "stream",
     "text": [
      "Token indices sequence length is longer than the specified maximum sequence length for this model (676 > 512). Running this sequence through the model will result in indexing errors\n"
     ]
    },
    {
     "name": "stdout",
     "output_type": "stream",
     "text": [
      "song id: 179321\n",
      "\n",
      "actual title: right now\n",
      "\n",
      "generated title: <pad> right now</s>\n",
      "\n",
      "lyrics: [john cena] yeah you can't help but feel it can't help but feel this one uh-huh uh yeah  excuse me for a minute while i lighten the mood just clap with me like the lightning do, yeah a bit of soul food that you be bitin into and if you feel me then i'm writin for you, uh-huh right now put another coat of wax on the ride for a minute put the beef and the gats to the side cause this track's got a vibe to chill to enjoy life for 5 minutes, man it's not gon' kill you it's okay to be hard and stay true man but at the end of the day, we all hu-man this one's for you, the ones that you close to show some love, it's what you supposed to right now, forget the ends and the benz pop a cold one, man toast it wit'cha real friends call your folks, tell 'em you tight now cause everything lookin pretty good right now  [chorus - sped up vocal sample]  [tha trademarc] right now baby, we all gon' ride so place those things on your hips or side the soul vibe gon' change, give way with fame but sometimes the moral change or stay the same relax baby, right now you here and sit back baby, with a round of beer and cheer to those friends who crowded near for those passed on in spirit they there it's gon' be what it must, break bread wit'cha crew if you got kids take the crust it's all love baby, tell your girl she's strong and whisper in her ear after dinner it's on and take it slow baby, cause everything real when you at family dinner y'all enjoy that meal thank god that you healthy and you keepin it tight and keep your dreams lighthearted when you sleepin at night  [chorus - sped up vocal sample]  [john cena] yeah - and right now i'm showin love to my brothers and my old man to my girl, \"let's get it on\" like the slow jam to everybody that i'm runnin down the road with y'all my family, i know that you know this fox, rock, b's and chaos y'all growin up with me man, true to life players grandma or grandpa watchin up above trademarc you my heart cousin, nothin but love  [tha trademarc] thanks momma, for all that you was you a strongarm lady baby crazy with love my sister raised me, those are the facts and taught me how to rebuild when the order collapsed and right now i'm blessed no stress no less and thanks hip-hop for givin me back focus, huh yeah john, what can i say? it's all love from day one, you showed me the way  [chorus - sped up vocal sample]\n",
      "\n",
      "==================================================\n"
     ]
    }
   ],
   "source": [
    "# inference on valid set\n",
    "for idx in np.random.randint(valid.index.min(),valid.index.max(),size=5):\n",
    "    lyric = df['Lyric'][idx]\n",
    "    title = generate(lyric)\n",
    "    \n",
    "    print(f\"song id: {idx}\\n\")\n",
    "    print(f\"actual title: {df['SName'][idx]}\\n\")\n",
    "    print(f\"generated title: {title}\\n\")\n",
    "    print(f\"lyrics: {df['Lyric'][idx]}\\n\")\n",
    "    print('='*50)"
   ]
  },
  {
   "cell_type": "markdown",
   "id": "596c1e6f-f9d6-49b8-b25a-871a415b9954",
   "metadata": {},
   "source": [
    "## inference on billboard top3 songs\n",
    "1. As It Was by Harry Styles\n",
    "2. First Class by Jack Harlow\n",
    "3. Wait For U by Future Featuring Drake & Tems"
   ]
  },
  {
   "cell_type": "code",
   "execution_count": 20,
   "id": "ff76e296-e510-4600-b0aa-00a89cfc3c3e",
   "metadata": {},
   "outputs": [
    {
     "data": {
      "text/plain": [
       "'<pad> as it was</s>'"
      ]
     },
     "execution_count": 20,
     "metadata": {},
     "output_type": "execute_result"
    }
   ],
   "source": [
    "# inference on billboard top song, i.e As It Was (Harry Styles)\n",
    "As_It_Was = '''Holdin' me back\n",
    "Gravity's holdin' me back\n",
    "I want you to hold out the palm of your hand\n",
    "Why don't we leave it at that?\n",
    "Nothin' to say\n",
    "When everything gets in the way\n",
    "Seems you cannot be replaced\n",
    "And I'm the one who will stay, oh\n",
    "In this world, it's just us\n",
    "You know it's not the same as it was\n",
    "In this world, it's just us\n",
    "You know it's not the same as it was\n",
    "As it was, as it was\n",
    "You know it's not the same\n",
    "Answer the phone\n",
    "\"Harry, you're no good alone\n",
    "Why are you sittin' at home on the floor?\n",
    "What kind of pills are you on?\"\n",
    "Ringin' the bell\n",
    "And nobody's comin' to help\n",
    "Your daddy lives by himself\n",
    "He just wants to know that you're well, oh\n",
    "In this world, it's just us\n",
    "You know it's not the same as it was\n",
    "In this world, it's just us\n",
    "You know it's not the same as it was\n",
    "As it was, as it was\n",
    "You know it's not the same\n",
    "Go home, get ahead, light-speed internet\n",
    "I don't wanna talk about the way that it was\n",
    "Leave America, two kids follow her\n",
    "I don't wanna talk about who's doin' it first\n",
    "As it was\n",
    "You know it's not the same as it was\n",
    "As it was, as it was\n",
    "'''\n",
    "generate(As_It_Was)"
   ]
  },
  {
   "cell_type": "code",
   "execution_count": 21,
   "id": "ae7b419a-8a79-489a-9934-02b3a820ca0d",
   "metadata": {},
   "outputs": [
    {
     "name": "stderr",
     "output_type": "stream",
     "text": [
      "Token indices sequence length is longer than the specified maximum sequence length for this model (748 > 512). Running this sequence through the model will result in indexing errors\n"
     ]
    },
    {
     "data": {
      "text/plain": [
       "'<pad> first class</s>'"
      ]
     },
     "execution_count": 21,
     "metadata": {},
     "output_type": "execute_result"
    }
   ],
   "source": [
    "First_Class = '''Mm\n",
    "I been a (G), throw up the (L)\n",
    "Sex in the (A-M), uh-huh\n",
    "(O-R-O-U-S, yeah)\n",
    "And I can put you in (first class, up in the sky)\n",
    "I can put you in (first class, up in the, up-up in the)\n",
    "I been a (G), throw up the (L)\n",
    "Sex in the (A-M), uh-huh\n",
    "(O-R-O-U-S, yeah)\n",
    "And I can put you in (first class, up in the sky), mm, mm\n",
    "I can put you in (first class, up in the, up-up in the)\n",
    "I can see the whole city from this balcony\n",
    "Back in 2019, I was outside freely\n",
    "But now they got it out for me\n",
    "I don't care what frat that you was in\n",
    "You can't alpha me, keep dreamin'\n",
    "Pineapple juice, I give her sweet, sweet, sweet (semen)\n",
    "I know what they like, so I just keep cheesin'\n",
    "Hard drive full of heat seekin'\n",
    "Tryna come the same day as Jack? Rethink it\n",
    "You don't need Givenchy, you need Jesus\n",
    "Why do y'all sleep on me? I need reasons\n",
    "Uh, I got plaques in the mail, peak season\n",
    "Shout out to my UPS workers makin' sure I receive 'em\n",
    "You can do it too, believe it\n",
    "I been a (G), throw up the (L)\n",
    "Sex in the (A-M), uh-huh\n",
    "(O-R-O-U-S, yeah)\n",
    "And I can put you in (first class, up in the sky), mm, mm\n",
    "I can put you in (first class, up in the, up-up in the)\n",
    "Huh, yes, I am\n",
    "They say, \"You a superstar now, \" damn, I guess I am\n",
    "You might be the man, well, that's unless I am\n",
    "Okay, I'll confess I am\n",
    "Go ahead and get undressed, I am\n",
    "Okay cool, you on Sunset? (I am)\n",
    "I'm 'bout to slide, okay, I'm outside, okay\n",
    "This lifestyle don't got many downsides\n",
    "'Cept for the lack of time I get 'round my\n",
    "Family, makin' sure they never downsize\n",
    "I got visions of my mom sayin', \"Wait, this house mine?\"\n",
    "Can't lie, I'm on Angus Cloud nine\n",
    "I got 'em on the bandwagon now, 'bout time\n",
    "I ain't even got no downtime\n",
    "Every time I speak, she say, \"Yeah, that sounds fine\"\n",
    "I been a (G), throw up the (L)\n",
    "Sex in the (A-M), uh-huh\n",
    "(O-R-O-U-S, yeah)\n",
    "And I can put you in (first class, up in the sky)\n",
    "I can put you in (first class, up in the, up-up in the)\n",
    "I been a (G), throw up the (L)\n",
    "Sex in the (A-M), uh-huh\n",
    "(O-R-O-U-S, yeah)\n",
    "And I can put you in (first class, up in the sky), mm, mm\n",
    "I can put you in (first class)\n",
    "'''\n",
    "generate(First_Class)"
   ]
  },
  {
   "cell_type": "code",
   "execution_count": 22,
   "id": "35517c51-ee7e-49a6-bda5-7ddc428f710e",
   "metadata": {},
   "outputs": [
    {
     "name": "stderr",
     "output_type": "stream",
     "text": [
      "Token indices sequence length is longer than the specified maximum sequence length for this model (950 > 512). Running this sequence through the model will result in indexing errors\n"
     ]
    },
    {
     "data": {
      "text/plain": [
       "'<pad> presidential rollie</s>'"
      ]
     },
     "execution_count": 22,
     "metadata": {},
     "output_type": "execute_result"
    }
   ],
   "source": [
    "Wait_For_U = '''Early in the morning, late at night (I will wait for you)\n",
    "It don't even matter what time it is (I will wait for you)\n",
    "Presidential Rollie already on the way (tired, sayin', \"Aye, yi, yi, yi\")\n",
    "Whenever I find time, it's okay (ayy)\n",
    "(ATL Jacob, ATL Jacob)\n",
    "You pray for my demons, girl, I got you\n",
    "Every time I sip on codeine, I get vulnerable\n",
    "Ignoring the sounds of the storm when it come\n",
    "She understand I can't take her everywhere a nigga going\n",
    "I been in the field like the children of the corn\n",
    "I can hear your tears when they drop over the phone\n",
    "Get mad at yourself 'cause you can't leave me alone\n",
    "Gossip, bein' messy, that ain't what we doing (worried 'bout a Xanny)\n",
    "Travel around the world (would you brag, or would you try to get me?)\n",
    "Over the phone, dropping tears (tell me now, I know that you be bragging)\n",
    "I get more vulnerable when I do drugs (tell me now, I need you so bad, yeah)\n",
    "When you drunk, you tell me exactly how you feel (I will wait for you, for you)\n",
    "When I'm loaded, I keep it real (I will wait for you, I will wait for you)\n",
    "Please tell a real one exactly what it is (I will wait, will wait, for you, for you)\n",
    "Don't say it 'cause you know that's what I wanna hear (I will wait for you, I will wait for you)\n",
    "Yeah, I been trapping 'round the world\n",
    "I sit on my balcony and wonder how you feeling\n",
    "I got a career that takes my time away from women\n",
    "I cannot convince you that I love you for a living (will wait for you, for you)\n",
    "I be on your line, feelings flowing like a river\n",
    "You be texting back you at Kiki on the river (I will wait for you)\n",
    "Message say \"Delivered\"(I will wait for you), but I know that you 'on't get it\n",
    "Why you introduce us if you knew that you was with him? (I will wait for you, for you, for you)\n",
    "Made me shake his hand when y'all been fucking for a minute (I will wait for you, for you)\n",
    "Walk me off the plank because you know that I'm a swimmer (I will wait for you)\n",
    "Supposed to be your dawg, but you done put me in a kennel\n",
    "Girl, put a muzzle on it, all that barking over dinner\n",
    "I was fucking with you when you had the tiny Presidential\n",
    "You got better when you met me and that ain't coincidental\n",
    "Tried to bring the best out you but, guess I'm not that influential\n",
    "Guess I'm not the one that's meant for you\n",
    "I can hear your tears when they drop over the phone\n",
    "Get mad at myself 'cause I can't leave you alone\n",
    "Gossip, that messy shit, that ain't what we doing, yeah (worried 'bout a Xanny)\n",
    "Trapping around the world (would you brag, or would you try to get me?)\n",
    "Over the phone, dropping tears (tell me now, I know that you be bragging)\n",
    "I get more vulnerable when I do pills (tell me now, I need you too bad, yeah)\n",
    "When you drunk, you tell me exactly how you feel (I will wait for you, for you)\n",
    "When I'm loaded, I keep it real (I will wait for you, I will wait for you)\n",
    "Please tell a real one exactly what it is (I will wait, will wait, for you, for you)\n",
    "Don't say it 'cause you know that's what I wanna hear (I will wait for you, I will wait for you)\n",
    "Early in the morning, late at night\n",
    "It don't even matter what time it is\n",
    "(Worried 'bout a Xanny, would you brag, or would you try to get me?)\n",
    "(Tell me now, I know that you be bragging)\n",
    "(Tell me now)'''\n",
    "generate(Wait_For_U)"
   ]
  },
  {
   "cell_type": "markdown",
   "id": "37e36e90-d3c1-44b5-a813-294edb49db86",
   "metadata": {},
   "source": [
    "### edge case: N95 by Kendrick Lamar"
   ]
  },
  {
   "cell_type": "code",
   "execution_count": 23,
   "id": "f3f5b5e2-3323-40e8-8380-1e157bd94f43",
   "metadata": {},
   "outputs": [
    {
     "name": "stderr",
     "output_type": "stream",
     "text": [
      "Token indices sequence length is longer than the specified maximum sequence length for this model (1169 > 512). Running this sequence through the model will result in indexing errors\n"
     ]
    },
    {
     "data": {
      "text/plain": [
       "'<pad> take it off</s>'"
      ]
     },
     "execution_count": 23,
     "metadata": {},
     "output_type": "execute_result"
    }
   ],
   "source": [
    "# edge case: N95 by Kendrick Lamar\n",
    "N95 = '''Hello, new world, all the boys and girls\n",
    "I got some true stories to tell\n",
    "You're back outside, but they still lied\n",
    "Whoa, oh, oh, oh (yeah)\n",
    "Take off the foo-foo\n",
    "Take off the clout chase\n",
    "Take off the Wi-Fi\n",
    "Take off the money phone\n",
    "Take off the car loan\n",
    "Take off the flex and the white lies\n",
    "Take off the weird-ass jewelry\n",
    "I'ma take ten steps\n",
    "Then I'm takin' off top five\n",
    "Take off them fabricated streams\n",
    "And them microwave memes\n",
    "It's a real world outside (take that shit off)\n",
    "Take off your idols\n",
    "Take off the runway\n",
    "I take off to Cairo (take that shit off)\n",
    "Take off to Saint-Tropez\n",
    "Five day stay, take a quarter mil'\n",
    "Hell, if I know (take that shit off)\n",
    "Take off the false flag\n",
    "Take off perception\n",
    "Take off the cop with the eye patch (take that shit off)\n",
    "Take off the unloyal\n",
    "Take off the unsure\n",
    "Take off decisions I lack (take it off)\n",
    "Take off the fake deep\n",
    "Take off the fake woke\n",
    "Take off the I'm broke, I care (take it off)\n",
    "Take off the gossip\n",
    "Take off the new logic, that if I'm rich, I'm rare (take it off)\n",
    "Take off the Chanel\n",
    "Take off the Dolce\n",
    "Take off the Birkin bag (take it off)\n",
    "Take all that designer bullshit off\n",
    "And what do you have? (Bitch)\n",
    "Huh, huh, uh, you ugly as fuck\n",
    "(You out of pocket)\n",
    "Huh, two ATMs (hah, hah, hah, hah)\n",
    "You steppin' or what? (You out of pocket, huh)\n",
    "Who you think they talk 'bout?\n",
    "Talk about us (you out of pocket, shoot, shoot, shoot)\n",
    "Who you think they copy off? (Brrt, brrt, brrt, brrt)\n",
    "Copy off us (get back in pocket)\n",
    "The world in a panic\n",
    "The women is stranded\n",
    "The men on a run\n",
    "The prophets abandoned\n",
    "The Lord take advantage\n",
    "The market is crashin'\n",
    "The industry wants\n",
    "Niggas and bitches to sleep in a box\n",
    "While they makin' a mockery followin' us\n",
    "This ain't Monopoly\n",
    "Watchin' for love\n",
    "This ain't monogamy\n",
    "Y'all gettin' fucked\n",
    "Jumpin' on what the hell is that?\n",
    "I gotta relax when I feel (huh, facts)\n",
    "All of my descendants\n",
    "They come in my sleep and say I am too real (huh, facts)\n",
    "I'm done with the sensitive takin' it personal\n",
    "Done with the black and the white\n",
    "The wrong and the right\n",
    "You hopin' for change and clericals\n",
    "I know the feelings that came with burial's cries (bitch)\n",
    "Huh, huh, uh, you ugly as fuck\n",
    "(You out of pocket)\n",
    "Huh, two ATMs (hah, hah, hah, hah)\n",
    "You steppin' or what? (You out of pocket, huh)\n",
    "Who you think they talk 'bout?\n",
    "Talk about us (you out of pocket, shoot, shoot, shoot)\n",
    "Who you think they copy off?\n",
    "Copy off us (brrt, brrt, brrt, brrt)\n",
    "Servin' up a look, dancin' in the drought\n",
    "Hello to the big stepper, never losin' count\n",
    "Ventin' in the safe house, ventin' in the sa-, ahh\n",
    "Can I vent all my truth?\n",
    "I got nothin' to lose\n",
    "I got problems and pools\n",
    "I can swim in my faith\n",
    "Camera's movin' whenever I'm movin'\n",
    "The family suin' whatever I make\n",
    "Murder is stackin', the president actin'\n",
    "The government taxin' my funds in the bank\n",
    "Homies attractin' the feds\n",
    "When I'm brackin', look at my reaction\n",
    "My pupils on skates (hold up, hold up)\n",
    "Let's think about this for a second (let's go)\n",
    "Tell me what you would do for aesthetic (let's go)\n",
    "Would you sell your soul on credit? (Let's go)\n",
    "Would you sell your bro for leverage? (Let's go)\n",
    "Where the hypocrites at?\n",
    "What community feel\n",
    "They the only ones relevant? (Let's go)\n",
    "Where the hypocrites at?\n",
    "What community feel\n",
    "They the only ones relevant? (Let's go)\n",
    "You outta pocket, yeah, you outta pocket (this shit hard)\n",
    "You entertain the mediocre, need to stop it (this shit hard)\n",
    "You entertainin' old friends when they toxic (this shit hard)\n",
    "What's your life like? Bullshit and gossip (this shit hard)\n",
    "What the fuck is cancel culture, dawg?\n",
    "Say what I want about you niggas\n",
    "I'm like Oprah, dawg\n",
    "I treat you crackers like I'm Jigga, watch\n",
    "I own it all\n",
    "Oh, you worried 'bout a critic?\n",
    "That ain't protocol (bitch)'''\n",
    "generate(N95)"
   ]
  },
  {
   "cell_type": "code",
   "execution_count": 24,
   "id": "ef7eb9b7-b617-4108-9cc6-8ee6c9ba8a6a",
   "metadata": {},
   "outputs": [],
   "source": [
    "from transformers import AutoTokenizer, AutoModelForSeq2SeqLM\n",
    "\n",
    "tokenizer = AutoTokenizer.from_pretrained(\"google/pegasus-xsum\")\n",
    "\n",
    "model = AutoModelForSeq2SeqLM.from_pretrained(\"google/pegasus-xsum\")"
   ]
  },
  {
   "cell_type": "code",
   "execution_count": 25,
   "id": "735bf1b0-e0a5-4ecd-abf9-eb9e4baf7def",
   "metadata": {},
   "outputs": [
    {
     "name": "stderr",
     "output_type": "stream",
     "text": [
      "Truncation was not explicitly activated but `max_length` is provided a specific value, please use `truncation=True` to explicitly truncate examples to max length. Defaulting to 'longest_first' truncation strategy. If you encode pairs of sequences (GLUE-style) with the tokenizer you can select this strategy more precisely by providing a specific strategy to `truncation`.\n"
     ]
    },
    {
     "name": "stdout",
     "output_type": "stream",
     "text": [
      "<pad>hanna: i guess you know i'</s>\n",
      "bad girl\n"
     ]
    }
   ],
   "source": [
    "idx = 459\n",
    "article = df['Lyric'][idx]\n",
    "\n",
    "inputs = tokenizer.encode(\"summarize: \" + article, return_tensors=\"pt\",max_length=512)\n",
    "outputs = model.generate(inputs, max_length=10, min_length=1, length_penalty=2.0, num_beams=4, early_stopping=True)\n",
    "result = tokenizer.decode(outputs[0])\n",
    "print(result)\n",
    "print(df['SName'][idx])"
   ]
  },
  {
   "cell_type": "code",
   "execution_count": null,
   "id": "79c6f76b-f971-4bf0-8608-ed88a475e571",
   "metadata": {},
   "outputs": [],
   "source": []
  }
 ],
 "metadata": {
  "kernelspec": {
   "display_name": "Python 3",
   "language": "python",
   "name": "python3"
  },
  "language_info": {
   "codemirror_mode": {
    "name": "ipython",
    "version": 3
   },
   "file_extension": ".py",
   "mimetype": "text/x-python",
   "name": "python",
   "nbconvert_exporter": "python",
   "pygments_lexer": "ipython3",
   "version": "3.9.13"
  }
 },
 "nbformat": 4,
 "nbformat_minor": 5
}
